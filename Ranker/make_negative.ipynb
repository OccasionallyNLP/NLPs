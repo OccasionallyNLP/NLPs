{
 "cells": [
  {
   "cell_type": "code",
   "execution_count": 1,
   "id": "2b07a00e-db78-4561-b772-e92455927fb3",
   "metadata": {},
   "outputs": [],
   "source": [
    "import pandas as pd\n",
    "import os\n",
    "import json\n",
    "import pickle\n",
    "from tqdm.auto import tqdm\n",
    "import numpy as np\n",
    "from typing import List\n",
    "import re\n",
    "from fast_bm25 import BM25\n",
    "from sklearn.model_selection import train_test_split\n",
    "from utils.utils import *\n",
    "import random"
   ]
  },
  {
   "cell_type": "code",
   "execution_count": 2,
   "id": "c9f8afa9-cbbe-442b-bd06-9e489571d383",
   "metadata": {},
   "outputs": [],
   "source": [
    "seed_everything(42)"
   ]
  },
  {
   "cell_type": "code",
   "execution_count": 4,
   "id": "587be369-33b1-4277-a7d8-4353e8634924",
   "metadata": {},
   "outputs": [
    {
     "name": "stderr",
     "output_type": "stream",
     "text": [
      "65199it [00:00, 84577.71it/s] \n",
      "9782it [00:00, 44520.42it/s]\n",
      "7245it [00:00, 107583.95it/s]\n",
      "23766it [00:00, 100800.31it/s]\n"
     ]
    }
   ],
   "source": [
    "train_data = load_jsonl('../../data/dpr/train.jsonl')\n",
    "dev_data = load_jsonl('../../data/dpr/dev.jsonl')\n",
    "test_data = load_jsonl('../../data/dpr/test.jsonl')\n",
    "docs = load_jsonl('../../data/dpr/docs.jsonl')"
   ]
  },
  {
   "cell_type": "code",
   "execution_count": 6,
   "id": "8700de5d-a98c-416a-8248-5c78b677c7ab",
   "metadata": {},
   "outputs": [
    {
     "data": {
      "text/plain": [
       "{'doc_id': 0,\n",
       " 'tc': '대한민국 한국어 표기에 쓰이는 문자인 한글은 세종대왕이 원로대신들의 반대를 무릅쓰고 언문청(諺文廳) 또는 정음청(正音廳)을 설치하여, 훈민정음이라는 명칭으로 1446년 반포하였다. 한글은 각 자음과 모음이 하나의 기호로 표시되고, 그 자음과 모음을 모아써서 소리를 나타내는 표음문자이다. 한글의 자음은 발음기관의 모양을 본뜨고 모음은 천(하늘:ㆍ),지(땅:ㅡ),인(사람:ㅣ)을 나타내는 각 부호의 조합으로 만든, 세계에서 유일하게 그 창제 원리가 밝혀진 문자이다. 한글 창제 이전에는 삼국 시대 혹은 그 이전부터 써왔던 한자와 이를 당시의 한국인이 쓰던 입말에 맞는 한자의 소리만 따서 문자로 표기한 향찰, 구결, 이두 등이 한국어 기록 수단이었다.'}"
      ]
     },
     "execution_count": 6,
     "metadata": {},
     "output_type": "execute_result"
    }
   ],
   "source": [
    "docs[-0]"
   ]
  },
  {
   "cell_type": "code",
   "execution_count": 8,
   "id": "53f3a6b5-d4a6-4696-a829-139bffe11abf",
   "metadata": {},
   "outputs": [
    {
     "data": {
      "text/plain": [
       "dict_keys(['positive_ctxs', 'positive_ctxs_ids', 'question', 'answer'])"
      ]
     },
     "execution_count": 8,
     "metadata": {},
     "output_type": "execute_result"
    }
   ],
   "source": [
    "train_data[0].keys()"
   ]
  },
  {
   "cell_type": "code",
   "execution_count": 9,
   "id": "2948fcd6-12ab-41d8-b9a9-5a8c5b5a4cd9",
   "metadata": {},
   "outputs": [
    {
     "data": {
      "text/plain": [
       "{'doc_id': 20952,\n",
       " 'tc': '평택 심복사 석조비로자나불좌상 심복사 능인전 안에 모셔진 이 불상은 고려말에 파주군 몽산포에 살던 천노인(千老人)이 덕목리 앞바다에서 건져 올린 것이라고 전한다. 불상 모실 곳을 찾아 옮기던 중 광덕산에 있는 지금의 심복사 자리에 이르자 갑자기 무거워졌으므로 여기에 모시게 되었다고 한다.\\n\\n머리에는 작은 소라 모양의 머리칼을 붙여 놓았으며 그 위에 있는 상투 모양의 머리(육계)는 낮게 표현되어 있다. 둥글고 원만한 얼굴에 귀가 크고 짧은 목에는 삼도(三道)의 표현이 뚜렷하다. 옷은 양 어깨를 감싸고 있으며, 옷깃과 소매깃에는 꽃무늬가 새겨져 있다. 배부분에는 안에 입은 옷을 묶은 띠매듭이 있는데 매우 사실적으로 묘사되었으며, 옷주름은 규칙적인 계단식 선들로 나타내어 단조롭고 형식적이다. 대좌(臺座)는 상·중·하대로 구성되어 있다. 상대는 16개의 연꽃무늬가 겹쳐서 새겨져 있고, 중대는 두 마리의 사자가 앞발을 들어 상대를 받치고 있는 모습이다. 하대는 8개의 겹잎 연꽃무늬가 새겨져 있다.\\n\\n다소 둔중해진 느낌도 있지만 안정되고 단정한 모습의 이 불상은 전체적인 조형이 도식화된 것으로 보아 10세기에 만들어진 것으로 추정된다.'}"
      ]
     },
     "execution_count": 9,
     "metadata": {},
     "output_type": "execute_result"
    }
   ],
   "source": [
    "random.choice(docs)"
   ]
  },
  {
   "cell_type": "code",
   "execution_count": 23,
   "id": "00f36523-1d3c-4d63-9219-1670a4c6fd5d",
   "metadata": {},
   "outputs": [],
   "source": [
    "def random_annotation(data_list, docs):\n",
    "    for i in data_list:\n",
    "        for j in tqdm(i, desc='attach'):\n",
    "            while True:\n",
    "                tmp = random.choice(docs)\n",
    "                if type(j['answer'])!=list:\n",
    "                    answer = j['answer']\n",
    "                    if answer not in tmp['tc']:\n",
    "                        j['negative_ctxs_ids']=[tmp['doc_id']]\n",
    "                        j['negative_ctxs']=[tmp['tc']]\n",
    "                        break\n",
    "                else:\n",
    "                    for answer in j['answer']:\n",
    "                        if answer in tmp['tc']:\n",
    "                            break\n",
    "                    else:\n",
    "                        j['negative_ctxs_ids']=[tmp['doc_id']]\n",
    "                        j['negative_ctxs']=[tmp['tc']]\n",
    "                        break\n",
    "                    \n",
    "    return data_list"
   ]
  },
  {
   "cell_type": "code",
   "execution_count": 24,
   "id": "37ecc94e-dc15-49c7-9e93-e697ddf5b3d9",
   "metadata": {},
   "outputs": [
    {
     "name": "stderr",
     "output_type": "stream",
     "text": [
      "attach: 100%|██████████████████████████████████████████████████████████| 65199/65199 [00:00<00:00, 407940.32it/s]\n",
      "attach: 100%|████████████████████████████████████████████████████████████| 9782/9782 [00:00<00:00, 273634.00it/s]\n",
      "attach: 100%|████████████████████████████████████████████████████████████| 7245/7245 [00:00<00:00, 385039.88it/s]\n"
     ]
    }
   ],
   "source": [
    "data_list = random_annotation([train_data,dev_data,test_data],docs)"
   ]
  },
  {
   "cell_type": "code",
   "execution_count": 25,
   "id": "a3310e3d-49fc-4b30-bcd0-7444cf3eb4b9",
   "metadata": {},
   "outputs": [],
   "source": [
    "for i in data_list:\n",
    "    for j in i:\n",
    "        if type(j['answer'])==list:\n",
    "            for answer in j['answer']:\n",
    "                assert answer not in j['negative_ctxs'][0]\n",
    "        else:\n",
    "            assert j['answer'] not in j['negative_ctxs'][0]"
   ]
  },
  {
   "cell_type": "code",
   "execution_count": 26,
   "id": "70db92d0-4d00-4831-9d46-74a9a43f285b",
   "metadata": {},
   "outputs": [],
   "source": [
    "save_jsonl('../../data/dpr/', data_list[0], 'train_w_negative')\n",
    "save_jsonl('../../data/dpr/', data_list[1], 'dev_w_negative')\n",
    "save_jsonl('../../data/dpr/', data_list[2], 'test_w_negative')"
   ]
  }
 ],
 "metadata": {
  "kernelspec": {
   "display_name": "Python 3 (ipykernel)",
   "language": "python",
   "name": "python3"
  },
  "language_info": {
   "codemirror_mode": {
    "name": "ipython",
    "version": 3
   },
   "file_extension": ".py",
   "mimetype": "text/x-python",
   "name": "python",
   "nbconvert_exporter": "python",
   "pygments_lexer": "ipython3",
   "version": "3.9.7"
  }
 },
 "nbformat": 4,
 "nbformat_minor": 5
}
