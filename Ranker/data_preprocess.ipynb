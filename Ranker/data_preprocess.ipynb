{
 "cells": [
  {
   "cell_type": "code",
   "execution_count": 49,
   "id": "6cea949f-4342-4aa9-8d88-1afb3b876ec9",
   "metadata": {},
   "outputs": [],
   "source": [
    "import pandas as pd\n",
    "import os\n",
    "import json\n",
    "import pickle\n",
    "from tqdm.auto import tqdm\n",
    "import numpy as np\n",
    "from typing import List\n",
    "import re\n",
    "from fast_bm25 import BM25\n",
    "from sklearn.model_selection import train_test_split\n",
    "from utils.utils import *\n",
    "import random\n",
    "from collections import Counter, defaultdict\n",
    "\n",
    "seed_everything(42)"
   ]
  },
  {
   "cell_type": "markdown",
   "id": "2900d883-76ff-4a50-85a3-b62d8531f00a",
   "metadata": {},
   "source": [
    "# KorQuAD"
   ]
  },
  {
   "cell_type": "code",
   "execution_count": 2,
   "id": "a575c51c-b284-49b2-a619-2cee56a08a3a",
   "metadata": {},
   "outputs": [],
   "source": [
    "def make_instance(data:List):\n",
    "    output = []\n",
    "    for article in tqdm(data):\n",
    "        if article.get('title') is not None:\n",
    "            title = article['title']\n",
    "        elif article.get('doc_title') is not None:\n",
    "            title = article['doc_title']\n",
    "        else:\n",
    "            raise Exception('title error')\n",
    "        title = re.sub('_',' ',title)\n",
    "        for paragraph in article['paragraphs']:\n",
    "            context = paragraph['context']\n",
    "            #contexts.append(dict(title=title, context=context))\n",
    "            for qas in paragraph['qas']:\n",
    "                question = qas['question']\n",
    "                if type(qas['answers'])==list:\n",
    "                    answer = [a['text'] for a in qas['answers']]\n",
    "                else:\n",
    "                    answer = qas['answers']['text']\n",
    "                if qas.get('is_impossible') is not None:\n",
    "                    if qas['is_impossible']==True:\n",
    "                        output.append(dict(title=title, context=context, question=question, answer=answer, label=0))\n",
    "                    else:\n",
    "                        output.append(dict(title=title, context=context, question=question, answer=answer, label=1))\n",
    "                else:\n",
    "                    output.append(dict(title=title, context=context, question=question, answer=answer, label=1))\n",
    "    return output"
   ]
  },
  {
   "cell_type": "code",
   "execution_count": 3,
   "id": "3d75cd51-d9aa-4a8c-91d9-e7833afa1f33",
   "metadata": {},
   "outputs": [],
   "source": [
    "def no_answer_make_instance(data:List):\n",
    "    output = []\n",
    "    for article in tqdm(data):\n",
    "        if article.get('title') is not None:\n",
    "            title = article['title']\n",
    "        elif article.get('doc_title') is not None:\n",
    "            title = article['doc_title']\n",
    "        else:\n",
    "            raise Exception('title error')\n",
    "        title = re.sub('_',' ',title)\n",
    "        for paragraph in article['paragraphs']:\n",
    "            context = paragraph['context']\n",
    "            for qas in paragraph['qas']:\n",
    "                question = qas['question']\n",
    "                answer = qas['answers'] if qas.get('answers') is not None else None\n",
    "                output.append(dict(title=title, context=context, question=question, answer=answer, label=0))\n",
    "    return output"
   ]
  },
  {
   "cell_type": "code",
   "execution_count": 5,
   "id": "f5c1b6b7-8211-4be6-b7ea-6ad86cd472a5",
   "metadata": {},
   "outputs": [],
   "source": [
    "def annotation(data_list): # train, val, test 따로 따로 진행 요망.\n",
    "    output = []\n",
    "    total_contexts = set()\n",
    "    c = 0\n",
    "    label_1 = 0\n",
    "    label_0 = 0\n",
    "    label_0_0 = 0\n",
    "    for i in tqdm(data_list,desc='make_context'):\n",
    "        for j in i:\n",
    "            c+=1\n",
    "            total_contexts.add(j['title']+' '.join(j['context'].split())) # 전처리\n",
    "    total_contexts = list(total_contexts)\n",
    "    for i in data_list:\n",
    "        for j in tqdm(i, desc='attach'):\n",
    "            q = j['question']\n",
    "            a = j['answer']\n",
    "            if j['label']==1:\n",
    "                pos = j['title']+' '+' '.join(j['context'].split())\n",
    "                output.append(dict(question=q, answer=a, context=pos, label=1))\n",
    "                label_1+=1\n",
    "                while True:\n",
    "                    tmp = random.choice(total_contexts)\n",
    "                    # list가 아니면 None임 - is impossible임.\n",
    "                    if type(j['answer'])==list:\n",
    "                        for answer in j['answer']:\n",
    "                            if answer in tmp:\n",
    "                                break\n",
    "                        else:\n",
    "                            label_0+=1\n",
    "                            output.append(dict(question=q, answer=a, context=tmp, label=0))\n",
    "                            break \n",
    "                    else:\n",
    "                        if a not in tmp:\n",
    "                            label_0+=1\n",
    "                            output.append(dict(question=q, answer=a, context=tmp, label=0))\n",
    "                            break                        \n",
    "            else:\n",
    "                label_0_0 +=1\n",
    "                neg = j['title']+' '+j['context']\n",
    "                output.append(dict(question=q, answer=a, context=neg, label=2))\n",
    "    print(f'positive 개수 : {label_1}, negative 개수 : {label_0}, is_impossible neagtive 개수 : {label_0_0}, total negative 개수 : {label_0+label_0_0}')\n",
    "    \n",
    "    return output"
   ]
  },
  {
   "cell_type": "code",
   "execution_count": 4,
   "id": "76b07488-d95e-4fca-8723-d6b4ad875a81",
   "metadata": {},
   "outputs": [],
   "source": [
    "korquad_train = json.load(open('../../data/MRC_data/KorQuAD 1.0/KorQuAD_v1.0_train.json','r'))\n",
    "korquad_dev = json.load(open('../../data/MRC_data/KorQuAD 1.0/KorQuAD_v1.0_dev.json','r'))"
   ]
  },
  {
   "cell_type": "code",
   "execution_count": 5,
   "id": "9854f8c2-54de-4de1-ae61-99b73959e043",
   "metadata": {},
   "outputs": [
    {
     "name": "stderr",
     "output_type": "stream",
     "text": [
      "100%|████████████████████████████████████████████████████████████████████████████| 1420/1420 [00:00<00:00, 9343.06it/s]\n",
      "100%|█████████████████████████████████████████████████████████████████████████████| 140/140 [00:00<00:00, 21537.65it/s]\n"
     ]
    }
   ],
   "source": [
    "korquad_train = make_instance(korquad_train['data'])\n",
    "korquad_dev = make_instance(korquad_dev['data'])"
   ]
  },
  {
   "cell_type": "code",
   "execution_count": 6,
   "id": "3d435226-c957-4160-b482-7139ddd10140",
   "metadata": {},
   "outputs": [],
   "source": [
    "korquad_train, korquad_test = train_test_split(korquad_train, test_size = 0.1, random_state=42, shuffle=True)"
   ]
  },
  {
   "cell_type": "code",
   "execution_count": 7,
   "id": "ab3ff7c7-3ad5-42ba-a348-3c086e5f70a9",
   "metadata": {},
   "outputs": [
    {
     "name": "stderr",
     "output_type": "stream",
     "text": [
      "100%|█████████████████████████████████████████████████████████████████████████| 54366/54366 [00:00<00:00, 84061.33it/s]\n",
      "100%|███████████████████████████████████████████████████████████████████████████| 6041/6041 [00:00<00:00, 82450.53it/s]\n",
      "100%|███████████████████████████████████████████████████████████████████████████| 5774/5774 [00:00<00:00, 90034.10it/s]\n"
     ]
    }
   ],
   "source": [
    "for name,data in zip(['train','dev','test'],[korquad_train, korquad_test, korquad_dev]):\n",
    "    dpr = []\n",
    "    for i in data:\n",
    "        if i['label']==1:\n",
    "            dpr.append(dict(question=i['question'], answer = i['answer'], positive_ctxs=[dict(title=i['title'], context=' '.join(i['context'].split()))]))            \n",
    "    save_jsonl('../../data/dpr/korquad',dpr,name)"
   ]
  },
  {
   "cell_type": "markdown",
   "id": "6366a6ff-a900-42eb-bac4-7342434b613f",
   "metadata": {},
   "source": [
    "## rerank"
   ]
  },
  {
   "cell_type": "code",
   "execution_count": 8,
   "id": "747f318f-b0b1-4731-a0e0-8e2c1c02e7a7",
   "metadata": {},
   "outputs": [
    {
     "name": "stderr",
     "output_type": "stream",
     "text": [
      "100%|█████████████████████████████████████████████████████████████████████████| 54366/54366 [00:00<00:00, 84193.24it/s]\n",
      "100%|███████████████████████████████████████████████████████████████████████████| 6041/6041 [00:00<00:00, 89252.77it/s]\n",
      "100%|███████████████████████████████████████████████████████████████████████████| 5774/5774 [00:00<00:00, 85604.39it/s]\n"
     ]
    }
   ],
   "source": [
    "save_jsonl('../../data/rerank/v2/korquad',korquad_train,'train')\n",
    "save_jsonl('../../data/rerank/v2/korquad',korquad_test,'dev')\n",
    "save_jsonl('../../data/rerank/v2/korquad',korquad_dev,'test')"
   ]
  },
  {
   "cell_type": "markdown",
   "id": "ce75e15c-c0ca-4dcc-bc0b-79a2b7a07081",
   "metadata": {},
   "source": [
    "# 기계독해 - dev 존재 x"
   ]
  },
  {
   "cell_type": "code",
   "execution_count": 9,
   "id": "ac9d2cbb-1019-4724-b099-9d2f9f6eb82b",
   "metadata": {},
   "outputs": [],
   "source": [
    "mrc_train_1 = json.load(open('../../data/MRC_data/기계독해/기계독해분야/01.Normal/ko_nia_normal_squad_all.json','r',encoding='utf-8'))\n",
    "mrc_train_2 = json.load(open('../../data/MRC_data/기계독해/기계독해분야/02.NoAnswer/ko_nia_noanswer_squad_all.json','r',encoding='utf-8')) # no answer\n",
    "mrc_train_3 = json.load(open('../../data/MRC_data/기계독해/기계독해분야/03.Clue_/ko_nia_clue0529_squad_all.json','r',encoding='utf-8'))"
   ]
  },
  {
   "cell_type": "code",
   "execution_count": 10,
   "id": "979cbb65-547b-494e-ba5e-e90a639536fa",
   "metadata": {},
   "outputs": [
    {
     "name": "stderr",
     "output_type": "stream",
     "text": [
      "100%|█████████████████████████████████████████████████████████████████████████| 47314/47314 [00:01<00:00, 27173.84it/s]\n",
      "100%|████████████████████████████████████████████████████████████████████████| 20030/20030 [00:00<00:00, 356824.83it/s]\n",
      "100%|████████████████████████████████████████████████████████████████████████| 34500/34500 [00:00<00:00, 256658.85it/s]\n"
     ]
    }
   ],
   "source": [
    "mrc_train_1 = make_instance(mrc_train_1['data'])\n",
    "mrc_train_2 = no_answer_make_instance(mrc_train_2['data'])\n",
    "mrc_train_3 = make_instance(mrc_train_3['data'])"
   ]
  },
  {
   "cell_type": "code",
   "execution_count": 11,
   "id": "67c9e34a-db3b-42d2-9434-ba205399c9e2",
   "metadata": {},
   "outputs": [],
   "source": [
    "mrc_train_1, mrc_test_1 = train_test_split(mrc_train_1,test_size = 0.1,random_state=42, shuffle=True)\n",
    "mrc_train_1, mrc_dev_1 = train_test_split(mrc_train_1,test_size = 0.1,random_state=42, shuffle=True)\n",
    "mrc_train_2, mrc_test_2 = train_test_split(mrc_train_2,test_size = 0.1,random_state=42, shuffle=True)\n",
    "mrc_train_2, mrc_dev_2 = train_test_split(mrc_train_2,test_size = 0.1,random_state=42, shuffle=True)\n",
    "mrc_train_3, mrc_test_3 = train_test_split(mrc_train_3,test_size = 0.1,random_state=42, shuffle=True)\n",
    "mrc_train_3, mrc_dev_3 = train_test_split(mrc_train_3,test_size = 0.1,random_state=42, shuffle=True)"
   ]
  },
  {
   "cell_type": "markdown",
   "id": "1317fd28-50d4-4966-ad59-f9ff20870214",
   "metadata": {},
   "source": [
    "## save for dpr"
   ]
  },
  {
   "cell_type": "code",
   "execution_count": 12,
   "id": "41660840-ce77-4316-9389-fedc6bd52bc3",
   "metadata": {},
   "outputs": [
    {
     "name": "stderr",
     "output_type": "stream",
     "text": [
      "100%|███████████████████████████████████████████████████████████████████████| 275469/275469 [00:04<00:00, 61489.06it/s]\n",
      "100%|█████████████████████████████████████████████████████████████████████████| 30609/30609 [00:00<00:00, 56709.80it/s]\n",
      "100%|█████████████████████████████████████████████████████████████████████████| 34010/34010 [00:00<00:00, 60533.04it/s]\n"
     ]
    }
   ],
   "source": [
    "for name,data in zip(['train','dev','test'],[mrc_train_1+mrc_train_3, mrc_dev_1+mrc_dev_3, mrc_test_1+mrc_test_3]):\n",
    "    dpr = []\n",
    "    for i in data:\n",
    "        if i['label']==1:\n",
    "            dpr.append(dict(question=i['question'], answer = i['answer'], positive_ctxs=[dict(title=i['title'], context=' '.join(i['context'].split()))]))            \n",
    "    save_jsonl('../../data/dpr/mrc',dpr,name)"
   ]
  },
  {
   "cell_type": "markdown",
   "id": "17359244-0564-4cef-bc80-25cbf3ee9f3b",
   "metadata": {},
   "source": [
    "## rerank"
   ]
  },
  {
   "cell_type": "code",
   "execution_count": 13,
   "id": "1015a834-d00b-4fc9-98e7-e2234399ed66",
   "metadata": {},
   "outputs": [],
   "source": [
    "train_data = mrc_train_1+mrc_train_2+mrc_train_3\n",
    "dev_data = mrc_dev_1+mrc_dev_2+mrc_dev_3\n",
    "test_data = mrc_test_1+mrc_test_2+mrc_test_3"
   ]
  },
  {
   "cell_type": "code",
   "execution_count": 14,
   "id": "ca08cbd9-8eec-4dc6-9255-215dd40dca28",
   "metadata": {},
   "outputs": [
    {
     "name": "stderr",
     "output_type": "stream",
     "text": [
      "100%|███████████████████████████████████████████████████████████████████████| 356666/356666 [00:05<00:00, 64607.82it/s]\n",
      "100%|█████████████████████████████████████████████████████████████████████████| 39631/39631 [00:00<00:00, 63268.36it/s]\n",
      "100%|█████████████████████████████████████████████████████████████████████████| 44035/44035 [00:00<00:00, 62719.79it/s]\n"
     ]
    }
   ],
   "source": [
    "save_jsonl('../../data/rerank/v2/mrc',train_data,'train')\n",
    "save_jsonl('../../data/rerank/v2/mrc',dev_data,'dev')\n",
    "save_jsonl('../../data/rerank/v2/mrc',test_data,'test')"
   ]
  },
  {
   "cell_type": "markdown",
   "id": "562db381-d866-4205-bd62-048f0171315b",
   "metadata": {},
   "source": [
    "# 도서자료 기계독해 - dev 존재"
   ]
  },
  {
   "cell_type": "code",
   "execution_count": null,
   "id": "89358a9f-0b32-44f1-8515-8c7c4ccf897e",
   "metadata": {},
   "outputs": [],
   "source": [
    "book_mrc_train = json.load(open('../../data/MRC_data/도서자료 기계독해/Training/도서_train/도서_220419_add/도서_220419_add.json','r',encoding='utf-8'))\n",
    "book_mrc_dev = json.load(open('../../data/MRC_data/도서자료 기계독해/Validation/도서_valid/도서.json','r',encoding='utf-8'))"
   ]
  },
  {
   "cell_type": "code",
   "execution_count": 16,
   "id": "e21f1d6e-f1e2-472f-8d6a-38cbe15021d5",
   "metadata": {},
   "outputs": [
    {
     "name": "stderr",
     "output_type": "stream",
     "text": [
      "100%|████████████████████████████████████████████████████████████████████████████| 5368/5368 [00:03<00:00, 1379.38it/s]\n",
      "100%|███████████████████████████████████████████████████████████████████████████| 1994/1994 [00:00<00:00, 41668.04it/s]\n"
     ]
    }
   ],
   "source": [
    "book_mrc_train = make_instance(book_mrc_train['data'])\n",
    "book_mrc_dev = make_instance(book_mrc_dev['data'])"
   ]
  },
  {
   "cell_type": "code",
   "execution_count": 17,
   "id": "55df8f04-3b6b-4f20-b5e7-daf4f21b4503",
   "metadata": {},
   "outputs": [],
   "source": [
    "book_mrc_train, book_mrc_test = train_test_split(book_mrc_train,test_size = 0.05,random_state=42, shuffle=True)"
   ]
  },
  {
   "cell_type": "code",
   "execution_count": 18,
   "id": "515abb39-6e0e-4804-b3a6-74d0fc0ab7b0",
   "metadata": {},
   "outputs": [
    {
     "name": "stderr",
     "output_type": "stream",
     "text": [
      "100%|███████████████████████████████████████████████████████████████████████| 598504/598504 [00:08<00:00, 73855.31it/s]\n",
      "100%|█████████████████████████████████████████████████████████████████████████| 31496/31496 [00:00<00:00, 75922.42it/s]\n",
      "100%|█████████████████████████████████████████████████████████████████████████| 35000/35000 [00:00<00:00, 85865.40it/s]\n"
     ]
    }
   ],
   "source": [
    "for name,data in zip(['train','dev','test'],[book_mrc_train, book_mrc_test, book_mrc_dev]):\n",
    "    dpr = []\n",
    "    for i in data:\n",
    "        if i['label']==1:\n",
    "            dpr.append(dict(question=i['question'], answer = i['answer'], positive_ctxs=[dict(title=i['title'], context=' '.join(i['context'].split()))]))            \n",
    "    save_jsonl('../../data/dpr/book',dpr,name)"
   ]
  },
  {
   "cell_type": "markdown",
   "id": "11f4abec-28b7-4005-a8ff-71d4c2f29a17",
   "metadata": {},
   "source": [
    "## rerank"
   ]
  },
  {
   "cell_type": "code",
   "execution_count": 19,
   "id": "1332d62e-a8db-4ce8-a1c2-7869e6744a7c",
   "metadata": {},
   "outputs": [],
   "source": [
    "def annotation(data):\n",
    "    if isinstance(data,list):\n",
    "        output = []\n",
    "        for i in data:\n",
    "            output+=i\n",
    "        return output\n",
    "    else:\n",
    "        return data"
   ]
  },
  {
   "cell_type": "code",
   "execution_count": 20,
   "id": "d2deecc6-09d6-4c19-ac3d-4b30abbbf2c5",
   "metadata": {},
   "outputs": [],
   "source": [
    "train_data = annotation([book_mrc_train])\n",
    "dev_data = annotation([book_mrc_test])\n",
    "test_data = annotation([book_mrc_dev])"
   ]
  },
  {
   "cell_type": "code",
   "execution_count": 21,
   "id": "42dee53f-f22d-4f07-a06b-e73451caab08",
   "metadata": {},
   "outputs": [
    {
     "name": "stderr",
     "output_type": "stream",
     "text": [
      "100%|███████████████████████████████████████████████████████████████████████| 855000/855000 [00:11<00:00, 76514.73it/s]\n",
      "100%|█████████████████████████████████████████████████████████████████████████| 45000/45000 [00:00<00:00, 72788.52it/s]\n",
      "100%|█████████████████████████████████████████████████████████████████████████| 50000/50000 [00:00<00:00, 82577.69it/s]\n"
     ]
    }
   ],
   "source": [
    "save_jsonl('../../data/rerank/v2/book',train_data, 'train')\n",
    "save_jsonl('../../data/rerank/v2/book',dev_data, 'dev')\n",
    "save_jsonl('../../data/rerank/v2/book',test_data, 'test')"
   ]
  },
  {
   "cell_type": "markdown",
   "id": "398ee1fa-38a9-4b58-8472-97db16da8a6f",
   "metadata": {},
   "source": [
    "# 행정문서 기계독해"
   ]
  },
  {
   "cell_type": "code",
   "execution_count": 22,
   "id": "1c0d621b-9257-4f35-b914-d947f89bad56",
   "metadata": {},
   "outputs": [],
   "source": [
    "ad_train_1 = json.load(open('../../data/MRC_data/행정 문서 대상 기계독해/01.데이터/1.Training/라벨링데이터/TL_multiple_choice/TL_multiple_choice.json','r',encoding='utf-8'))\n",
    "ad_train_2 = json.load(open('../../data/MRC_data/행정 문서 대상 기계독해/01.데이터/1.Training/라벨링데이터/TL_span_extraction/TL_span_extraction.json','r',encoding='utf-8'))\n",
    "ad_train_3 = json.load(open('../../data/MRC_data/행정 문서 대상 기계독해/01.데이터/1.Training/라벨링데이터/TL_span_extraction_how/TL_span_extraction_how.json','r',encoding='utf-8'))\n",
    "ad_train_4 = json.load(open('../../data/MRC_data/행정 문서 대상 기계독해/01.데이터/1.Training/라벨링데이터/TL_unanswerable/TL_unanswerable.json','r',encoding='utf-8')) # NO\n",
    "ad_train_5 = json.load(open('../../data/MRC_data/행정 문서 대상 기계독해/01.데이터/1.Training/라벨링데이터/TL_text_entailment/TL_text_entailment.json','r',encoding='utf-8'))\n",
    "\n",
    "ad_dev_1 = json.load(open('../../data/MRC_data/행정 문서 대상 기계독해/01.데이터/2.Validation/라벨링데이터/VL_multiple_choice/VL_multiple_choice.json','r',encoding='utf-8'))\n",
    "ad_dev_2 = json.load(open('../../data/MRC_data/행정 문서 대상 기계독해/01.데이터/2.Validation/라벨링데이터/VL_span_extraction/VL_span_extraction.json','r',encoding='utf-8'))\n",
    "ad_dev_3 = json.load(open('../../data/MRC_data/행정 문서 대상 기계독해/01.데이터/2.Validation/라벨링데이터/VL_span_extraction_how/VL_span_extraction_how.json','r',encoding='utf-8'))\n",
    "# NO\n",
    "ad_dev_4 = json.load(open('../../data/MRC_data/행정 문서 대상 기계독해/01.데이터/2.Validation/라벨링데이터/VL_unanswerable/VL_unanswerable.json','r',encoding='utf-8'))\n",
    "ad_dev_5 = json.load(open('../../data/MRC_data/행정 문서 대상 기계독해/01.데이터/2.Validation/라벨링데이터/VL_text_entailment/VL_text_entailment.json','r',encoding='utf-8'))"
   ]
  },
  {
   "cell_type": "code",
   "execution_count": 23,
   "id": "b6125151-8f2a-4fc6-8c7b-023b85f27b58",
   "metadata": {
    "tags": []
   },
   "outputs": [
    {
     "name": "stderr",
     "output_type": "stream",
     "text": [
      "100%|████████████████████████████████████████████████████████████████████████| 15085/15085 [00:00<00:00, 376878.26it/s]\n",
      "100%|████████████████████████████████████████████████████████████████████████| 63932/63932 [00:00<00:00, 481721.45it/s]\n",
      "100%|████████████████████████████████████████████████████████████████████████| 29074/29074 [00:00<00:00, 429260.55it/s]\n",
      "100%|██████████████████████████████████████████████████████████████████████████| 9828/9828 [00:00<00:00, 456885.93it/s]\n",
      "100%|████████████████████████████████████████████████████████████████████████| 16872/16872 [00:00<00:00, 456512.58it/s]\n",
      "100%|██████████████████████████████████████████████████████████████████████████| 2813/2813 [00:00<00:00, 344886.79it/s]\n",
      "100%|████████████████████████████████████████████████████████████████████████| 11985/11985 [00:00<00:00, 505869.25it/s]\n",
      "100%|██████████████████████████████████████████████████████████████████████████| 5458/5458 [00:00<00:00, 491888.94it/s]\n",
      "100%|██████████████████████████████████████████████████████████████████████████| 1843/1843 [00:00<00:00, 330911.91it/s]\n",
      "100%|██████████████████████████████████████████████████████████████████████████| 3154/3154 [00:00<00:00, 725583.30it/s]\n"
     ]
    }
   ],
   "source": [
    "ad_train_1 =make_instance(ad_train_1['data'])\n",
    "ad_train_2 =make_instance(ad_train_2['data'])\n",
    "ad_train_3 =make_instance(ad_train_3['data'])\n",
    "ad_train_4 =no_answer_make_instance(ad_train_4['data'])\n",
    "ad_train_5 =make_instance(ad_train_5['data'])\n",
    "\n",
    "ad_dev_1 = make_instance(ad_dev_1['data'])\n",
    "ad_dev_2 = make_instance(ad_dev_2['data'])\n",
    "ad_dev_3 = make_instance(ad_dev_3['data'])\n",
    "ad_dev_4 = no_answer_make_instance(ad_dev_4['data'])\n",
    "ad_dev_5 = make_instance(ad_dev_5['data'])"
   ]
  },
  {
   "cell_type": "code",
   "execution_count": 24,
   "id": "8fbf8185-918e-418c-ba03-f65eea385f79",
   "metadata": {},
   "outputs": [],
   "source": [
    "ad_train_1,ad_test_1 = train_test_split(ad_train_1,test_size = 0.1,random_state=42, shuffle=True)\n",
    "ad_train_2,ad_test_2 = train_test_split(ad_train_2,test_size = 0.1,random_state=42, shuffle=True)\n",
    "ad_train_3, ad_test_3 = train_test_split(ad_train_3,test_size = 0.1,random_state=42, shuffle=True)\n",
    "ad_train_4, ad_test_4 = train_test_split(ad_train_4,test_size = 0.1,random_state=42, shuffle=True)\n",
    "ad_train_5, ad_test_5 = train_test_split(ad_train_5,test_size = 0.1,random_state=42, shuffle=True)"
   ]
  },
  {
   "cell_type": "code",
   "execution_count": 25,
   "id": "be9b6e41-0777-49f8-b43f-81d720603f7f",
   "metadata": {},
   "outputs": [],
   "source": [
    "ad_train = ad_train_1+ad_train_2+ad_train_3+ad_train_5\n",
    "ad_dev = ad_dev_1+ad_dev_2+ad_dev_3+ad_dev_5\n",
    "ad_test = ad_test_1+ad_test_2+ad_test_3+ad_test_5"
   ]
  },
  {
   "cell_type": "code",
   "execution_count": 26,
   "id": "629891fd-71e0-4b08-bce8-95f698b364e6",
   "metadata": {},
   "outputs": [
    {
     "name": "stderr",
     "output_type": "stream",
     "text": [
      "100%|███████████████████████████████████████████████████████████████████████| 187391/187391 [00:02<00:00, 77568.54it/s]\n",
      "100%|█████████████████████████████████████████████████████████████████████████| 20822/20822 [00:00<00:00, 78296.85it/s]\n",
      "100%|█████████████████████████████████████████████████████████████████████████| 26026/26026 [00:00<00:00, 88499.58it/s]\n"
     ]
    }
   ],
   "source": [
    "for name,data in zip(['train','dev','test'],[ad_train, ad_test, ad_dev]):\n",
    "    dpr = []\n",
    "    for i in data:\n",
    "        if i['label']==1:\n",
    "            dpr.append(dict(question=i['question'], answer = i['answer'], positive_ctxs=[dict(title=i['title'], context=' '.join(i['context'].split()))]))            \n",
    "    path = '../../data/dpr/ad'\n",
    "    os.makedirs(path, exist_ok=True)\n",
    "    save_jsonl(path,dpr,name)"
   ]
  },
  {
   "cell_type": "code",
   "execution_count": 27,
   "id": "43b2433a-586c-4be0-8659-2089531f85c9",
   "metadata": {},
   "outputs": [],
   "source": [
    "train_data = annotation([ad_train, ad_train_4])\n",
    "dev_data = annotation([ad_test, ad_test_4])\n",
    "test_data = annotation([ad_dev, ad_dev_4])"
   ]
  },
  {
   "cell_type": "code",
   "execution_count": 28,
   "id": "0dd8273e-a16e-45e3-a7ca-6834a28c9a4a",
   "metadata": {},
   "outputs": [
    {
     "name": "stderr",
     "output_type": "stream",
     "text": [
      "100%|███████████████████████████████████████████████████████████████████████| 202151/202151 [00:02<00:00, 71200.03it/s]\n",
      "100%|█████████████████████████████████████████████████████████████████████████| 22462/22462 [00:00<00:00, 69069.15it/s]\n",
      "100%|█████████████████████████████████████████████████████████████████████████| 28076/28076 [00:00<00:00, 78974.08it/s]\n"
     ]
    }
   ],
   "source": [
    "save_jsonl('../../data/rerank/v2/ad',train_data, 'train')\n",
    "save_jsonl('../../data/rerank/v2/ad',dev_data, 'dev')\n",
    "save_jsonl('../../data/rerank/v2/ad',test_data, 'test')"
   ]
  },
  {
   "cell_type": "markdown",
   "id": "f4067c79-dd93-4ed2-b88a-33dc611cfd72",
   "metadata": {},
   "source": [
    "# 뉴스 기사 기계독해"
   ]
  },
  {
   "cell_type": "code",
   "execution_count": 29,
   "id": "72ea8d4e-51a3-4e80-81ad-2c073055bfa5",
   "metadata": {},
   "outputs": [],
   "source": [
    "news_mrc_train_1 = json.load(open('../../data/MRC_data/뉴스 기사 기계독해/01.데이터/1.Training/라벨링데이터/TL_text_entailment/TL_text_entailment.json','r',encoding='utf-8'))\n",
    "news_mrc_train_2 = json.load(open('../../data/MRC_data/뉴스 기사 기계독해/01.데이터/1.Training/라벨링데이터/TL_span_extraction/TL_span_extraction.json','r',encoding='utf-8'))\n",
    "news_mrc_train_3 = json.load(open('../../data/MRC_data/뉴스 기사 기계독해/01.데이터/1.Training/라벨링데이터_221115_add/TL_span_inference/TL_span_inference.json','r',encoding='utf-8'))\n",
    "news_mrc_train_4 = json.load(open('../../data//MRC_data/뉴스 기사 기계독해/01.데이터/1.Training/라벨링데이터/TL_unanswerable/TL_unanswerable.json','r',encoding='utf-8'))\n",
    "news_mrc_dev_1 = json.load(open('../../data/MRC_data/뉴스 기사 기계독해/01.데이터/2.Validation/라벨링데이터/VL_span_extraction/VL_span_extraction.json','r',encoding='utf-8'))\n",
    "news_mrc_dev_2 = json.load(open('../../data/MRC_data/뉴스 기사 기계독해/01.데이터/2.Validation/라벨링데이터/VL_span_inference/VL_span_inference.json','r',encoding='utf-8'))\n",
    "news_mrc_dev_3 = json.load(open('../../data/MRC_data/뉴스 기사 기계독해/01.데이터/2.Validation/라벨링데이터/VL_text_entailment/VL_text_entailment.json','r',encoding='utf-8'))\n",
    "news_mrc_dev_4 = json.load(open('../../data//MRC_data/뉴스 기사 기계독해/01.데이터/2.Validation/라벨링데이터/VL_unanswerable/VL_unanswerable.json','r',encoding='utf-8'))"
   ]
  },
  {
   "cell_type": "code",
   "execution_count": 30,
   "id": "7b51a420-467d-4d11-af08-345618e4b230",
   "metadata": {},
   "outputs": [
    {
     "name": "stderr",
     "output_type": "stream",
     "text": [
      "100%|████████████████████████████████████████████████████████████████████████| 24009/24009 [00:00<00:00, 419528.25it/s]\n",
      "100%|██████████████████████████████████████████████████████████████████████| 111967/111967 [00:00<00:00, 385642.31it/s]\n",
      "100%|████████████████████████████████████████████████████████████████████████| 15992/15992 [00:00<00:00, 420574.41it/s]\n",
      "100%|██████████████████████████████████████████████████████████████████████████| 8000/8000 [00:00<00:00, 424465.62it/s]\n",
      "100%|████████████████████████████████████████████████████████████████████████| 13997/13997 [00:00<00:00, 460661.89it/s]\n",
      "100%|██████████████████████████████████████████████████████████████████████████| 1999/1999 [00:00<00:00, 294355.21it/s]\n",
      "100%|██████████████████████████████████████████████████████████████████████████| 3001/3001 [00:00<00:00, 286064.10it/s]\n",
      "100%|██████████████████████████████████████████████████████████████████████████| 1000/1000 [00:00<00:00, 500036.24it/s]\n"
     ]
    }
   ],
   "source": [
    "news_mrc_train_1 = make_instance(news_mrc_train_1['data'])\n",
    "news_mrc_train_2 = make_instance(news_mrc_train_2['data'])\n",
    "news_mrc_train_3 = make_instance(news_mrc_train_3['data'])\n",
    "news_mrc_train_4 = no_answer_make_instance(news_mrc_train_4['data'])\n",
    "news_mrc_dev_1 = make_instance(news_mrc_dev_1['data'])\n",
    "news_mrc_dev_2 = make_instance(news_mrc_dev_2['data'])\n",
    "news_mrc_dev_3 = make_instance(news_mrc_dev_3['data'])\n",
    "news_mrc_dev_4 = no_answer_make_instance(news_mrc_dev_4['data'])"
   ]
  },
  {
   "cell_type": "code",
   "execution_count": 31,
   "id": "e60a66ed-8729-4101-85b4-fd8636bf52ab",
   "metadata": {},
   "outputs": [],
   "source": [
    "news_mrc_train_1, news_mrc_test_1 = train_test_split(news_mrc_train_1,test_size = 0.1,random_state=42, shuffle=True)\n",
    "news_mrc_train_2, news_mrc_test_2 = train_test_split(news_mrc_train_2,test_size = 0.1,random_state=42, shuffle=True)\n",
    "news_mrc_train_3, news_mrc_test_3 = train_test_split(news_mrc_train_3,test_size = 0.1,random_state=42, shuffle=True)"
   ]
  },
  {
   "cell_type": "code",
   "execution_count": 32,
   "id": "7e01b7b2-a7d7-4c64-9c34-a017f8d3d39e",
   "metadata": {},
   "outputs": [],
   "source": [
    "news_mrc_train_4, news_mrc_test_4 = train_test_split(news_mrc_train_4,test_size = 0.1,random_state=42, shuffle=True)"
   ]
  },
  {
   "cell_type": "code",
   "execution_count": 33,
   "id": "3e520d34-d366-4df1-bbb5-a89100d44f14",
   "metadata": {},
   "outputs": [],
   "source": [
    "news_train = news_mrc_train_1+news_mrc_train_2+news_mrc_train_3\n",
    "news_dev = news_mrc_dev_1+news_mrc_dev_2+news_mrc_dev_3\n",
    "news_test = news_mrc_test_1+news_mrc_test_2+news_mrc_test_3"
   ]
  },
  {
   "cell_type": "code",
   "execution_count": 34,
   "id": "e763a7e4-66e0-4314-bede-fee60898913c",
   "metadata": {},
   "outputs": [
    {
     "name": "stderr",
     "output_type": "stream",
     "text": [
      "100%|███████████████████████████████████████████████████████████████████████| 273543/273543 [00:04<00:00, 62530.06it/s]\n",
      "100%|█████████████████████████████████████████████████████████████████████████| 30395/30395 [00:00<00:00, 58180.26it/s]\n",
      "100%|█████████████████████████████████████████████████████████████████████████| 37996/37996 [00:00<00:00, 57568.94it/s]\n"
     ]
    }
   ],
   "source": [
    "for name,data in zip(['train','dev','test'],[news_train, news_test, news_dev]):\n",
    "    dpr = []\n",
    "    for i in data:\n",
    "        if i['label']==1:\n",
    "            dpr.append(dict(question=i['question'], answer = i['answer'], positive_ctxs=[dict(title=i['title'], context=' '.join(i['context'].split()))]))            \n",
    "    path = '../../data/dpr/news'\n",
    "    os.makedirs(path, exist_ok=True)\n",
    "    save_jsonl(path,dpr,name)"
   ]
  },
  {
   "cell_type": "code",
   "execution_count": 35,
   "id": "33a24e8b-d8d7-4e78-a84f-03e4de4449f4",
   "metadata": {},
   "outputs": [],
   "source": [
    "train_data = annotation([news_train, news_mrc_train_4])\n",
    "dev_data = annotation([news_test, news_mrc_test_4])\n",
    "test_data = annotation([news_dev, news_mrc_dev_4])"
   ]
  },
  {
   "cell_type": "code",
   "execution_count": 36,
   "id": "fae50bd1-da3a-410e-9024-ddc6f8f5a75b",
   "metadata": {},
   "outputs": [
    {
     "name": "stderr",
     "output_type": "stream",
     "text": [
      "100%|███████████████████████████████████████████████████████████████████████| 287943/287943 [00:04<00:00, 59167.89it/s]\n",
      "100%|█████████████████████████████████████████████████████████████████████████| 31995/31995 [00:00<00:00, 61015.53it/s]\n",
      "100%|█████████████████████████████████████████████████████████████████████████| 39996/39996 [00:00<00:00, 55213.48it/s]\n"
     ]
    }
   ],
   "source": [
    "save_jsonl('../../data/rerank/v2/news',train_data, 'train')\n",
    "save_jsonl('../../data/rerank/v2/news',dev_data, 'dev')\n",
    "save_jsonl('../../data/rerank/v2/news',test_data, 'test')"
   ]
  },
  {
   "cell_type": "markdown",
   "id": "d943e0be-ef56-44f2-8787-cf7bb199fffc",
   "metadata": {
    "tags": []
   },
   "source": [
    "# KLUE MRC"
   ]
  },
  {
   "cell_type": "code",
   "execution_count": 37,
   "id": "d1ef6dba-80bb-4d5f-8ad6-0a4420c72efc",
   "metadata": {},
   "outputs": [],
   "source": [
    "def klue_make_instance(data:List):\n",
    "    output = []\n",
    "    for article in tqdm(data):\n",
    "        title = article['title']\n",
    "        context = article['context']\n",
    "        question = article['question']\n",
    "        answer = article['answers']['text']\n",
    "        if article['is_impossible']==False:\n",
    "            output.append(dict(title=title, context=context, question=question, answer=answer, label=1))\n",
    "        else:\n",
    "            output.append(dict(title=title, context=context, question=question, answer=answer, label=0))\n",
    "    return output"
   ]
  },
  {
   "cell_type": "code",
   "execution_count": 38,
   "id": "5c4f7d92-ec67-4a5b-a366-5ee6d735ac71",
   "metadata": {},
   "outputs": [
    {
     "name": "stderr",
     "output_type": "stream",
     "text": [
      "Reusing dataset klue (C:\\Users\\User\\.cache\\huggingface\\datasets\\klue\\mrc\\1.0.0\\e0fc3bc3de3eb03be2c92d72fd04a60ecc71903f821619cb28ca0e1e29e4233e)\n"
     ]
    },
    {
     "data": {
      "application/vnd.jupyter.widget-view+json": {
       "model_id": "3f992425e176480c8e5a77013f4d09c4",
       "version_major": 2,
       "version_minor": 0
      },
      "text/plain": [
       "  0%|          | 0/2 [00:00<?, ?it/s]"
      ]
     },
     "metadata": {},
     "output_type": "display_data"
    }
   ],
   "source": [
    "from datasets import load_dataset\n",
    "dataset = load_dataset('klue', 'mrc')\t# klue dataset 중에 sts를 가져옴"
   ]
  },
  {
   "cell_type": "code",
   "execution_count": 39,
   "id": "4aa3b86a-bd85-412d-a63c-c4a563a8e7ba",
   "metadata": {},
   "outputs": [
    {
     "name": "stderr",
     "output_type": "stream",
     "text": [
      "100%|█████████████████████████████████████████████████████████████████████████| 17554/17554 [00:01<00:00, 10407.20it/s]\n",
      "100%|███████████████████████████████████████████████████████████████████████████| 5841/5841 [00:00<00:00, 10889.82it/s]\n"
     ]
    }
   ],
   "source": [
    "klue_mrc_train = klue_make_instance(dataset['train'])\n",
    "klue_mrc_dev = klue_make_instance(dataset['validation'])"
   ]
  },
  {
   "cell_type": "code",
   "execution_count": 40,
   "id": "4d64ff24-b96a-4a1d-a6aa-52f1e79bd68f",
   "metadata": {},
   "outputs": [],
   "source": [
    "klue_mrc_train, klue_mrc_test = train_test_split(klue_mrc_train,test_size = 0.2, random_state=42, shuffle=True)"
   ]
  },
  {
   "cell_type": "code",
   "execution_count": 41,
   "id": "7dffd0cc-5a6f-4338-8a37-e9cb40ef0a3e",
   "metadata": {},
   "outputs": [
    {
     "name": "stderr",
     "output_type": "stream",
     "text": [
      "100%|███████████████████████████████████████████████████████████████████████████| 9654/9654 [00:00<00:00, 55254.33it/s]\n",
      "100%|███████████████████████████████████████████████████████████████████████████| 2383/2383 [00:00<00:00, 56639.63it/s]\n",
      "100%|███████████████████████████████████████████████████████████████████████████| 4008/4008 [00:00<00:00, 58849.29it/s]\n"
     ]
    }
   ],
   "source": [
    "for name,data in zip(['train','dev','test'],[klue_mrc_train, klue_mrc_test, klue_mrc_dev]):\n",
    "    dpr = []\n",
    "    for i in data:\n",
    "        if i['label']==1:\n",
    "            dpr.append(dict(question=i['question'], answer = i['answer'], positive_ctxs=[dict(title=i['title'], context=' '.join(i['context'].split()))]))            \n",
    "    path = '../../data/dpr/klue'\n",
    "    os.makedirs(path, exist_ok=True)\n",
    "    save_jsonl(path,dpr,name)"
   ]
  },
  {
   "cell_type": "code",
   "execution_count": 42,
   "id": "b3658ac0-3449-4862-9e44-c91b6d68e15a",
   "metadata": {},
   "outputs": [],
   "source": [
    "train_data = annotation([klue_mrc_train])\n",
    "dev_data = annotation([klue_mrc_test])\n",
    "test_data = annotation([klue_mrc_dev])"
   ]
  },
  {
   "cell_type": "code",
   "execution_count": 44,
   "id": "4d636658-1a3d-4823-a3c6-ba96e4b1aa84",
   "metadata": {},
   "outputs": [
    {
     "name": "stderr",
     "output_type": "stream",
     "text": [
      "100%|█████████████████████████████████████████████████████████████████████████| 14043/14043 [00:00<00:00, 54582.23it/s]\n",
      "100%|███████████████████████████████████████████████████████████████████████████| 3511/3511 [00:00<00:00, 60210.16it/s]\n",
      "100%|███████████████████████████████████████████████████████████████████████████| 5841/5841 [00:00<00:00, 60267.97it/s]\n"
     ]
    }
   ],
   "source": [
    "save_jsonl('../../data/rerank/v2/klue',train_data,'train')\n",
    "save_jsonl('../../data/rerank/v2/klue',dev_data,'dev')\n",
    "save_jsonl('../../data/rerank/v2/klue',test_data,'test')"
   ]
  },
  {
   "cell_type": "markdown",
   "id": "347ede31-dd63-4718-8e40-a0198d94a414",
   "metadata": {},
   "source": [
    "# Total data eda"
   ]
  },
  {
   "cell_type": "code",
   "execution_count": 45,
   "id": "062ad1dd-0c3a-4fb3-b7ba-352648fc7283",
   "metadata": {},
   "outputs": [
    {
     "data": {
      "text/plain": [
       "{'title': '호라티우스',\n",
       " 'context': '호라티우스의 출신 가문은 정확히 알려져 있지 않다. 아마 그의 아버지는 노예에서 해방된 자유신분(libertinus)으로서 로마 자유시민권을 가진 여인과 결혼한 것으로 보인다. 호라티우스는 어린시절부터 아버지로부터 세심한 교육을 받았으며, 기원전 45년에 당시 문화와 예술의 중심지인 고대 그리스의 아테네에 유학하여 고대 그리스 철학과 문학을 공부한다. 이 시기에 그는 역시 고대 그리스 문화를 사랑하는 마르쿠스 브루투스와 친교를 맺게되어 그를 따라 소아시아 지방에서 여러 전투에 참가한다. 기원전 약 40년을 전후로 호라티우스는 로마로 돌아와 젊은 문학자와 사귀면서, 특히 베르길리우스의 주선으로 당시의 로마의 문학 애호가이자 부호인 가이우스 마에케나스(Gaius Maecenas)에게 소개된다. 이 만남은 호라티우스가 사망할 때까지 깊은 우정관계로 발전한다. 특히 마이케나스는 호라티우스에게 기원전 32년 사비나 농장을 선물함으로써, 여기서 호라티우스는 경제적 어려움에서 완전히 해방되어 시 창작에 열중하게 된다.',\n",
       " 'question': '호라티우스에게 베르길리우스를 소개해준 사람은?',\n",
       " 'answer': ['가이우스 마에케나스(Gaius Maecenas)', 'Gaius Maecenas'],\n",
       " 'label': 0}"
      ]
     },
     "execution_count": 45,
     "metadata": {},
     "output_type": "execute_result"
    }
   ],
   "source": [
    "train_data[9]"
   ]
  },
  {
   "cell_type": "code",
   "execution_count": 46,
   "id": "5edfc1bc-efd2-4916-9222-d5b4381fb7f1",
   "metadata": {
    "collapsed": true,
    "jupyter": {
     "outputs_hidden": true
    },
    "tags": []
   },
   "outputs": [
    {
     "name": "stderr",
     "output_type": "stream",
     "text": [
      "  0%|                                                                                            | 0/6 [00:00<?, ?it/s]"
     ]
    },
    {
     "name": "stdout",
     "output_type": "stream",
     "text": [
      "korquad\n",
      "korquad train\n"
     ]
    },
    {
     "name": "stderr",
     "output_type": "stream",
     "text": [
      "\n",
      "0it [00:00, ?it/s]\u001b[A\n",
      "10738it [00:00, 106495.50it/s]\u001b[A\n",
      "22118it [00:00, 108833.65it/s]\u001b[A\n",
      "33758it [00:00, 111932.71it/s]\u001b[A\n",
      "54366it [00:00, 113097.45it/s]\u001b[A\n"
     ]
    },
    {
     "name": "stdout",
     "output_type": "stream",
     "text": [
      "korquad dev\n"
     ]
    },
    {
     "name": "stderr",
     "output_type": "stream",
     "text": [
      "\n",
      "6041it [00:00, 115745.24it/s]\n"
     ]
    },
    {
     "name": "stdout",
     "output_type": "stream",
     "text": [
      "korquad test\n"
     ]
    },
    {
     "name": "stderr",
     "output_type": "stream",
     "text": [
      "\n",
      "5774it [00:00, 141056.04it/s]\n",
      " 17%|██████████████                                                                      | 1/6 [00:00<00:03,  1.61it/s]"
     ]
    },
    {
     "name": "stdout",
     "output_type": "stream",
     "text": [
      "klue\n",
      "klue train\n"
     ]
    },
    {
     "name": "stderr",
     "output_type": "stream",
     "text": [
      "\n",
      "0it [00:00, ?it/s]\u001b[A\n",
      "6295it [00:00, 58180.03it/s]\u001b[A\n",
      "14043it [00:00, 62953.76it/s]\u001b[A\n"
     ]
    },
    {
     "name": "stdout",
     "output_type": "stream",
     "text": [
      "klue dev\n"
     ]
    },
    {
     "name": "stderr",
     "output_type": "stream",
     "text": [
      "\n",
      "3511it [00:00, 69369.96it/s]\n"
     ]
    },
    {
     "name": "stdout",
     "output_type": "stream",
     "text": [
      "klue test\n"
     ]
    },
    {
     "name": "stderr",
     "output_type": "stream",
     "text": [
      "\n",
      "5841it [00:00, 69679.01it/s]\n",
      " 33%|████████████████████████████                                                        | 2/6 [00:01<00:01,  2.09it/s]"
     ]
    },
    {
     "name": "stdout",
     "output_type": "stream",
     "text": [
      "book\n",
      "book train\n"
     ]
    },
    {
     "name": "stderr",
     "output_type": "stream",
     "text": [
      "\n",
      "0it [00:00, ?it/s]\u001b[A\n",
      "10928it [00:00, 108954.36it/s]\u001b[A\n",
      "22424it [00:00, 110315.77it/s]\u001b[A\n",
      "33563it [00:00, 110311.01it/s]\u001b[A\n",
      "44594it [00:00, 109781.30it/s]\u001b[A\n",
      "55746it [00:00, 110070.27it/s]\u001b[A\n",
      "67814it [00:00, 111196.35it/s]\u001b[A\n",
      "79111it [00:00, 111256.60it/s]\u001b[A\n",
      "90235it [00:00, 110748.04it/s]\u001b[A\n",
      "101424it [00:00, 110886.95it/s]\u001b[A\n",
      "113119it [00:01, 109877.57it/s]\u001b[A\n",
      "124645it [00:01, 110768.40it/s]\u001b[A\n",
      "136293it [00:01, 111416.32it/s]\u001b[A\n",
      "147606it [00:01, 111704.57it/s]\u001b[A\n",
      "158779it [00:01, 109946.50it/s]\u001b[A\n",
      "169779it [00:04, 12027.76it/s] \u001b[A\n",
      "180072it [00:04, 16024.50it/s]\u001b[A\n",
      "191121it [00:04, 21606.00it/s]\u001b[A\n",
      "202334it [00:04, 28652.47it/s]\u001b[A\n",
      "212193it [00:04, 35564.45it/s]\u001b[A\n",
      "223405it [00:04, 44876.88it/s]\u001b[A\n",
      "234384it [00:04, 54543.89it/s]\u001b[A\n",
      "245060it [00:05, 63736.39it/s]\u001b[A\n",
      "256319it [00:05, 73484.68it/s]\u001b[A\n",
      "267578it [00:05, 82148.70it/s]\u001b[A\n",
      "278667it [00:05, 88970.62it/s]\u001b[A\n",
      "289987it [00:05, 94457.85it/s]\u001b[A\n",
      "301448it [00:05, 99346.66it/s]\u001b[A\n",
      "312680it [00:05, 102688.47it/s]\u001b[A\n",
      "325056it [00:05, 106495.05it/s]\u001b[A\n",
      "337407it [00:05, 110609.93it/s]\u001b[A\n",
      "349525it [00:05, 113548.32it/s]\u001b[A\n",
      "361178it [00:06, 113464.19it/s]\u001b[A\n",
      "372733it [00:06, 113562.02it/s]\u001b[A\n",
      "384236it [00:06, 112734.57it/s]\u001b[A\n",
      "395813it [00:06, 112953.80it/s]\u001b[A\n",
      "407181it [00:06, 113072.25it/s]\u001b[A\n",
      "418639it [00:06, 112508.10it/s]\u001b[A\n",
      "430198it [00:06, 112154.15it/s]\u001b[A\n",
      "442424it [00:06, 113947.58it/s]\u001b[A\n",
      "453836it [00:06, 113247.96it/s]\u001b[A\n",
      "465318it [00:06, 113305.39it/s]\u001b[A\n",
      "476778it [00:07, 112658.97it/s]\u001b[A\n",
      "488089it [00:07, 111760.65it/s]\u001b[A\n",
      "499480it [00:07, 112251.48it/s]\u001b[A\n",
      "512198it [00:07, 115019.65it/s]\u001b[A\n",
      "524026it [00:07, 115931.53it/s]\u001b[A\n",
      "535973it [00:07, 116934.48it/s]\u001b[A\n",
      "547770it [00:07, 115399.62it/s]\u001b[A\n",
      "559315it [00:07, 114266.55it/s]\u001b[A\n",
      "570746it [00:07, 114177.05it/s]\u001b[A\n",
      "582167it [00:07, 113631.85it/s]\u001b[A\n",
      "593532it [00:08, 113006.43it/s]\u001b[A\n",
      "605094it [00:08, 112808.84it/s]\u001b[A\n",
      "616376it [00:11, 11677.13it/s] \u001b[A\n",
      "627638it [00:11, 15895.79it/s]\u001b[A\n",
      "639216it [00:11, 21486.39it/s]\u001b[A\n",
      "650441it [00:11, 28195.42it/s]\u001b[A\n",
      "661176it [00:11, 35781.65it/s]\u001b[A\n",
      "673273it [00:11, 45773.69it/s]\u001b[A\n",
      "684801it [00:11, 55683.88it/s]\u001b[A\n",
      "696232it [00:11, 65557.22it/s]\u001b[A\n",
      "707298it [00:12, 74427.22it/s]\u001b[A\n",
      "718412it [00:12, 82131.13it/s]\u001b[A\n",
      "729703it [00:12, 89154.87it/s]\u001b[A\n",
      "741269it [00:12, 94281.37it/s]\u001b[A\n",
      "752700it [00:12, 98871.52it/s]\u001b[A\n",
      "764328it [00:12, 102807.79it/s]\u001b[A\n",
      "775875it [00:12, 105848.86it/s]\u001b[A\n",
      "787623it [00:12, 108217.47it/s]\u001b[A\n",
      "799062it [00:12, 109659.32it/s]\u001b[A\n",
      "810365it [00:12, 110287.05it/s]\u001b[A\n",
      "821608it [00:13, 108799.62it/s]\u001b[A\n",
      "833797it [00:13, 110511.93it/s]\u001b[A\n",
      "855000it [00:13, 64108.22it/s] \u001b[A\n"
     ]
    },
    {
     "name": "stdout",
     "output_type": "stream",
     "text": [
      "book dev\n"
     ]
    },
    {
     "name": "stderr",
     "output_type": "stream",
     "text": [
      "\n",
      "0it [00:00, ?it/s]\u001b[A\n",
      "12172it [00:00, 120225.01it/s]\u001b[A\n",
      "24195it [00:00, 99313.80it/s] \u001b[A\n",
      "34347it [00:00, 98049.45it/s]\u001b[A\n",
      "45000it [00:00, 100738.84it/s][A\n"
     ]
    },
    {
     "name": "stdout",
     "output_type": "stream",
     "text": [
      "book test\n"
     ]
    },
    {
     "name": "stderr",
     "output_type": "stream",
     "text": [
      "\n",
      "0it [00:00, ?it/s]\u001b[A\n",
      "12318it [00:00, 118006.65it/s]\u001b[A\n",
      "24119it [00:00, 116981.14it/s]\u001b[A\n",
      "36322it [00:00, 119127.13it/s]\u001b[A\n",
      "50000it [00:00, 120899.79it/s]\u001b[A\n",
      " 50%|██████████████████████████████████████████                                          | 3/6 [00:15<00:20,  6.77s/it]"
     ]
    },
    {
     "name": "stdout",
     "output_type": "stream",
     "text": [
      "ad\n",
      "ad train\n"
     ]
    },
    {
     "name": "stderr",
     "output_type": "stream",
     "text": [
      "\n",
      "0it [00:00, ?it/s]\u001b[A\n",
      "10279it [00:00, 101882.84it/s]\u001b[A\n",
      "20468it [00:00, 101076.53it/s]\u001b[A\n",
      "30576it [00:00, 99811.18it/s] \u001b[A\n",
      "40559it [00:00, 94174.36it/s]\u001b[A\n",
      "50017it [00:00, 87953.13it/s]\u001b[A\n",
      "58884it [00:00, 85061.04it/s]\u001b[A\n",
      "67924it [00:00, 86357.73it/s]\u001b[A\n",
      "77266it [00:00, 88328.41it/s]\u001b[A\n",
      "86803it [00:00, 90187.55it/s]\u001b[A\n",
      "96290it [00:01, 91364.32it/s]\u001b[A\n",
      "105855it [00:01, 92353.64it/s]\u001b[A\n",
      "115318it [00:01, 92768.35it/s]\u001b[A\n",
      "124609it [00:01, 92262.17it/s]\u001b[A\n",
      "133845it [00:01, 90853.35it/s]\u001b[A\n",
      "142941it [00:01, 89790.09it/s]\u001b[A\n",
      "151928it [00:01, 86998.21it/s]\u001b[A\n",
      "160747it [00:01, 86833.19it/s]\u001b[A\n",
      "170592it [00:01, 88906.41it/s]\u001b[A\n",
      "179899it [00:01, 89943.25it/s]\u001b[A\n",
      "189257it [00:02, 90614.86it/s]\u001b[A\n",
      "202151it [00:02, 90108.93it/s]\u001b[A\n"
     ]
    },
    {
     "name": "stdout",
     "output_type": "stream",
     "text": [
      "ad dev\n"
     ]
    },
    {
     "name": "stderr",
     "output_type": "stream",
     "text": [
      "\n",
      "0it [00:00, ?it/s]\u001b[A\n",
      "9565it [00:00, 93964.06it/s]\u001b[A\n",
      "22462it [00:00, 93346.02it/s]\u001b[A\n"
     ]
    },
    {
     "name": "stdout",
     "output_type": "stream",
     "text": [
      "ad test\n"
     ]
    },
    {
     "name": "stderr",
     "output_type": "stream",
     "text": [
      "\n",
      "0it [00:00, ?it/s]\u001b[A\n",
      "9336it [00:00, 92904.46it/s]\u001b[A\n",
      "28076it [00:00, 92503.65it/s]\u001b[A\n",
      " 67%|████████████████████████████████████████████████████████                            | 4/6 [00:18<00:10,  5.21s/it]"
     ]
    },
    {
     "name": "stdout",
     "output_type": "stream",
     "text": [
      "mrc\n",
      "mrc train\n"
     ]
    },
    {
     "name": "stderr",
     "output_type": "stream",
     "text": [
      "\n",
      "0it [00:00, ?it/s]\u001b[A\n",
      "8293it [00:00, 80269.18it/s]\u001b[A\n",
      "16485it [00:00, 78115.73it/s]\u001b[A\n",
      "24300it [00:00, 77865.79it/s]\u001b[A\n",
      "32088it [00:00, 77561.02it/s]\u001b[A\n",
      "39845it [00:00, 77179.95it/s]\u001b[A\n",
      "47619it [00:00, 77146.09it/s]\u001b[A\n",
      "55579it [00:00, 77575.87it/s]\u001b[A\n",
      "63540it [00:00, 77954.67it/s]\u001b[A\n",
      "71424it [00:00, 77978.87it/s]\u001b[A\n",
      "79346it [00:01, 78207.06it/s]\u001b[A\n",
      "87326it [00:01, 78397.36it/s]\u001b[A\n",
      "95166it [00:01, 78152.97it/s]\u001b[A\n",
      "102982it [00:01, 77855.34it/s]\u001b[A\n",
      "110768it [00:01, 76769.37it/s]\u001b[A\n",
      "118448it [00:01, 70141.05it/s]\u001b[A\n",
      "125569it [00:01, 66810.33it/s]\u001b[A\n",
      "132928it [00:01, 68622.84it/s]\u001b[A\n",
      "140666it [00:01, 70798.72it/s]\u001b[A\n",
      "148670it [00:01, 73304.10it/s]\u001b[A\n",
      "156639it [00:02, 74970.45it/s]\u001b[A\n",
      "164480it [00:02, 75638.49it/s]\u001b[A\n",
      "172218it [00:02, 75730.75it/s]\u001b[A\n",
      "179984it [00:02, 75852.23it/s]\u001b[A\n",
      "187586it [00:02, 75759.92it/s]\u001b[A\n",
      "195174it [00:02, 75270.18it/s]\u001b[A\n",
      "202710it [00:02, 68454.25it/s]\u001b[A\n",
      "210802it [00:02, 71654.41it/s]\u001b[A\n",
      "219654it [00:02, 76168.84it/s]\u001b[A\n",
      "227821it [00:03, 77573.96it/s]\u001b[A\n",
      "235936it [00:03, 78398.35it/s]\u001b[A\n",
      "244324it [00:03, 79695.91it/s]\u001b[A\n",
      "252759it [00:03, 80878.78it/s]\u001b[A\n",
      "261028it [00:03, 81187.58it/s]\u001b[A\n",
      "269237it [00:03, 81346.02it/s]\u001b[A\n",
      "277427it [00:03, 81376.03it/s]\u001b[A\n",
      "286617it [00:03, 84453.58it/s]\u001b[A\n",
      "295072it [00:07, 7609.65it/s] \u001b[A\n",
      "304291it [00:07, 10724.08it/s]\u001b[A\n",
      "312653it [00:07, 14375.04it/s]\u001b[A\n",
      "321317it [00:07, 19194.42it/s]\u001b[A\n",
      "329034it [00:07, 24241.50it/s]\u001b[A\n",
      "337654it [00:07, 31080.41it/s]\u001b[A\n",
      "346431it [00:07, 38795.86it/s]\u001b[A\n",
      "356666it [00:07, 44864.32it/s]\u001b[A\n"
     ]
    },
    {
     "name": "stdout",
     "output_type": "stream",
     "text": [
      "mrc dev\n"
     ]
    },
    {
     "name": "stderr",
     "output_type": "stream",
     "text": [
      "\n",
      "0it [00:00, ?it/s]\u001b[A\n",
      "7146it [00:00, 71050.97it/s]\u001b[A\n",
      "14350it [00:00, 70108.63it/s]\u001b[A\n",
      "22167it [00:00, 71060.47it/s]\u001b[A\n",
      "30125it [00:00, 73518.91it/s]\u001b[A\n",
      "39631it [00:00, 75564.03it/s]\u001b[A\n"
     ]
    },
    {
     "name": "stdout",
     "output_type": "stream",
     "text": [
      "mrc test\n"
     ]
    },
    {
     "name": "stderr",
     "output_type": "stream",
     "text": [
      "\n",
      "0it [00:00, ?it/s]\u001b[A\n",
      "7186it [00:00, 71649.10it/s]\u001b[A\n",
      "14547it [00:00, 72691.35it/s]\u001b[A\n",
      "22026it [00:00, 73156.54it/s]\u001b[A\n",
      "29379it [00:00, 73057.77it/s]\u001b[A\n",
      "44035it [00:00, 76350.20it/s]\u001b[A\n",
      " 83%|██████████████████████████████████████████████████████████████████████              | 5/6 [00:27<00:06,  6.62s/it]"
     ]
    },
    {
     "name": "stdout",
     "output_type": "stream",
     "text": [
      "news\n",
      "news train\n"
     ]
    },
    {
     "name": "stderr",
     "output_type": "stream",
     "text": [
      "\n",
      "0it [00:00, ?it/s]\u001b[A\n",
      "6486it [00:00, 61949.36it/s]\u001b[A\n",
      "12750it [00:00, 62096.76it/s]\u001b[A\n",
      "18960it [00:00, 60263.96it/s]\u001b[A\n",
      "24995it [00:00, 60169.39it/s]\u001b[A\n",
      "31901it [00:00, 62691.65it/s]\u001b[A\n",
      "38576it [00:00, 62256.81it/s]\u001b[A\n",
      "45370it [00:00, 63912.07it/s]\u001b[A\n",
      "53099it [00:00, 67968.89it/s]\u001b[A\n",
      "60867it [00:00, 70913.27it/s]\u001b[A\n",
      "68648it [00:01, 72801.60it/s]\u001b[A\n",
      "76586it [00:01, 74646.65it/s]\u001b[A\n",
      "84701it [00:01, 75307.33it/s]\u001b[A\n",
      "92256it [00:01, 75333.06it/s]\u001b[A\n",
      "99792it [00:01, 74850.07it/s]\u001b[A\n",
      "107279it [00:01, 74405.55it/s]\u001b[A\n",
      "114878it [00:01, 74746.25it/s]\u001b[A\n",
      "122756it [00:01, 75229.68it/s]\u001b[A\n",
      "130280it [00:01, 75098.84it/s]\u001b[A\n",
      "138451it [00:01, 75755.41it/s]\u001b[A\n",
      "146488it [00:02, 76652.59it/s]\u001b[A\n",
      "154373it [00:02, 77015.34it/s]\u001b[A\n",
      "162236it [00:02, 77115.35it/s]\u001b[A\n",
      "169948it [00:02, 73500.85it/s]\u001b[A\n",
      "177330it [00:02, 66294.29it/s]\u001b[A\n",
      "184098it [00:02, 63551.91it/s]\u001b[A\n",
      "191415it [00:02, 65861.95it/s]\u001b[A\n",
      "198470it [00:02, 66940.87it/s]\u001b[A\n",
      "205806it [00:02, 68471.10it/s]\u001b[A\n",
      "213709it [00:03, 71193.21it/s]\u001b[A\n",
      "221412it [00:03, 72836.36it/s]\u001b[A\n",
      "228884it [00:03, 73386.62it/s]\u001b[A\n",
      "237157it [00:03, 75916.83it/s]\u001b[A\n",
      "245314it [00:03, 76745.58it/s]\u001b[A\n",
      "253005it [00:03, 70679.68it/s]\u001b[A\n",
      "260173it [00:03, 64184.38it/s]\u001b[A\n",
      "267190it [00:03, 65236.73it/s]\u001b[A\n",
      "273902it [00:03, 65577.10it/s]\u001b[A\n",
      "280549it [00:04, 64391.20it/s]\u001b[A\n",
      "287943it [00:04, 69555.06it/s]\u001b[A\n"
     ]
    },
    {
     "name": "stdout",
     "output_type": "stream",
     "text": [
      "news dev\n"
     ]
    },
    {
     "name": "stderr",
     "output_type": "stream",
     "text": [
      "\n",
      "0it [00:00, ?it/s]\u001b[A\n",
      "6762it [00:00, 65278.37it/s]\u001b[A\n",
      "14427it [00:00, 71575.26it/s]\u001b[A\n",
      "22275it [00:00, 73431.23it/s]\u001b[A\n",
      "31995it [00:00, 72261.07it/s]\u001b[A\n"
     ]
    },
    {
     "name": "stdout",
     "output_type": "stream",
     "text": [
      "news test\n"
     ]
    },
    {
     "name": "stderr",
     "output_type": "stream",
     "text": [
      "\n",
      "0it [00:00, ?it/s]\u001b[A\n",
      "7937it [00:00, 77084.00it/s]\u001b[A\n",
      "15646it [00:00, 76517.05it/s]\u001b[A\n",
      "23298it [00:00, 65350.74it/s]\u001b[A\n",
      "29991it [00:00, 58427.58it/s]\u001b[A\n",
      "39996it [00:00, 65216.71it/s]\u001b[A\n",
      "100%|████████████████████████████████████████████████████████████████████████████████████| 6/6 [00:32<00:00,  5.40s/it]\n"
     ]
    }
   ],
   "source": [
    "path = '../../data/rerank/v2'\n",
    "question_pool = defaultdict(list)\n",
    "passage_pool = defaultdict(list)\n",
    "total_data = []\n",
    "for name in tqdm(['korquad','klue','book','ad','mrc','news']):\n",
    "    cur_path = os.path.join(path, name)\n",
    "    print(name)\n",
    "    for i in ['train','dev','test']:\n",
    "        final_path = os.path.join(cur_path, i)+'.jsonl'\n",
    "        print(name + ' ' + i)\n",
    "        data = load_jsonl(final_path)\n",
    "        # for j in data:\n",
    "        #     question_pool[j['question']].append(j)\n",
    "        total_data+=data    "
   ]
  },
  {
   "cell_type": "code",
   "execution_count": 48,
   "id": "bc1cdb69-500a-4dcc-9b27-cc61f48e363e",
   "metadata": {},
   "outputs": [
    {
     "name": "stdout",
     "output_type": "stream",
     "text": [
      "2092531\n"
     ]
    }
   ],
   "source": [
    "import hashlib\n",
    "def compute_hash(text):\n",
    "    return hashlib.md5(text.encode()).hexdigest()"
   ]
  },
  {
   "cell_type": "code",
   "execution_count": 58,
   "id": "48a18f3a-d4e9-4d2b-a76b-7b6be5af92a1",
   "metadata": {},
   "outputs": [
    {
     "name": "stderr",
     "output_type": "stream",
     "text": [
      "100%|█████████████████████████████████████████████████████████████████████| 2092531/2092531 [00:21<00:00, 96691.78it/s]\n"
     ]
    }
   ],
   "source": [
    "total_docs = {}\n",
    "for i in tqdm(total_data):\n",
    "    id = compute_hash(i['title']+' '+i['context'])\n",
    "    total_docs[compute_hash(i['title']+' '+i['context'])]=dict(title=i['title'], context=i['context'], doc_id = c)"
   ]
  },
  {
   "cell_type": "code",
   "execution_count": 59,
   "id": "f6a9064c-67a3-4750-ad33-6db313166bb0",
   "metadata": {},
   "outputs": [],
   "source": [
    "total_docs_ = {}\n",
    "c = 0\n",
    "for i,j in total_docs.items():\n",
    "    c+=1\n",
    "    total_docs_[c] = j\n",
    "    total_docs_[c]['doc_id'] = c"
   ]
  },
  {
   "cell_type": "code",
   "execution_count": 61,
   "id": "4dfda544-4578-481d-8530-5b2b23393798",
   "metadata": {},
   "outputs": [
    {
     "data": {
      "text/plain": [
       "{'title': '회색늑대',\n",
       " 'context': '북유럽 신화와 일본 신화에서 늑대는 신으로 가깝게 묘사되었다. 일본에서는 농부가 신사에서 늑대를 숭배하고 굴 근처에서 먹이를 주며, 야생 맷돼지와 사슴으로부터 작물을 보호하기 위해서 늑대에게 간청한다는 이야기가 있고, 북유럽 신화에서 나오는 펜리르 늑대는 로키의 아들로 묘사되었다. 다른 문화에서, 아일랜드 신화에서는 코르막 맥 에어트가 늑대로 묘사되며, 로마 신화에서는 암늑대가 로물루스와 레무스를 기르며 로마를 건국했다는 등 여러 기초 신화에서 늑대를 중심 인물로 두고 있다. 튀르크 신화,, 몽골 신화, 아이누 신화에서는 늑대가 자기 민족의 조상으로 나온 반면, 데나이나 민족은 늑대가 한 남성의 형태이며 자신의 형제인 것으로 믿는다. 늑대는 고대 그리스와 고대 로마 신화에서 아폴론 신과 늑대가 태양에 관련되어 있다고 설명하며 북유럽 신화에서는 태양의 신인 스콜이 늑대와 관련되는 등 일부 유라시아의 신화에서 늑대와 태양을 관련시켰다. 파웨니 민족의 창조 설화에 따르면 늑대는 죽음을 처음으로 겪은 동물이다. 북유럽 신화에서 볼바 마녀가 히로킨 거인과 힐다 거인을 늑대로 다스리는 것으로 묘사하고, 나바호 족은 늑대를 마녀로 생각하고 두려워하는 등 가끔 북유럽과 아메리카의 일부 원주민 신화에서 늑대는 모두 마법과 관련된 것으로 묘사된다. 마찬가지로, 칠코틴 족은 늑대가 정신 질환과 사망을 일으킬 수 있다고 생각했다.',\n",
       " 'doc_id': 1}"
      ]
     },
     "execution_count": 61,
     "metadata": {},
     "output_type": "execute_result"
    }
   ],
   "source": [
    "total_docs_[1]"
   ]
  },
  {
   "cell_type": "code",
   "execution_count": 64,
   "id": "bad41c3a-2655-4394-9d30-3959305eb1e9",
   "metadata": {},
   "outputs": [
    {
     "data": {
      "text/plain": [
       "605688"
      ]
     },
     "execution_count": 64,
     "metadata": {},
     "output_type": "execute_result"
    }
   ],
   "source": [
    "len(total_docs_)"
   ]
  },
  {
   "cell_type": "code",
   "execution_count": null,
   "id": "e95df221-11e3-4827-bc83-e222b530f541",
   "metadata": {},
   "outputs": [],
   "source": [
    "question_pool = defaultdict(list)\n",
    "for j in data_list:\n",
    "    for i in j: \n",
    "        question = i['question']\n",
    "        question_pool[question].append(dict(title=i['title'],context=i['context'],answer=i['answer'], label=i['label']))"
   ]
  },
  {
   "cell_type": "code",
   "execution_count": null,
   "id": "b23207df-5636-4fa2-bcbd-023828b03c97",
   "metadata": {},
   "outputs": [
    {
     "name": "stdout",
     "output_type": "stream",
     "text": [
      "2004545\n"
     ]
    }
   ],
   "source": [
    "print(len(question_pool))"
   ]
  },
  {
   "cell_type": "code",
   "execution_count": null,
   "id": "fbecc285-4503-48e2-b59e-5970738c1336",
   "metadata": {},
   "outputs": [
    {
     "name": "stdout",
     "output_type": "stream",
     "text": [
      "[ 1.  1.  1.  1. 51.]\n"
     ]
    }
   ],
   "source": [
    "print(np.percentile(list(map(len, question_pool.values())),[0,50,95,99,100]))"
   ]
  },
  {
   "cell_type": "code",
   "execution_count": null,
   "id": "fd5796f5-557b-4539-8cce-d9e5820652df",
   "metadata": {},
   "outputs": [
    {
     "name": "stdout",
     "output_type": "stream",
     "text": [
      "[ 1.  1.  1.  1. 29.]\n"
     ]
    }
   ],
   "source": [
    "no_answer = dict()\n",
    "for i in question_pool:\n",
    "    for j in question_pool[i]:\n",
    "        if j['label']==0:\n",
    "            no_answer[i]=question_pool[i]\n",
    "            break\n",
    "print(np.percentile(list(map(len, no_answer.values())),[0,50,95,99,100]))"
   ]
  },
  {
   "cell_type": "code",
   "execution_count": 57,
   "id": "564814c5-939e-4e8b-b488-5e2405fa136f",
   "metadata": {},
   "outputs": [
    {
     "name": "stdout",
     "output_type": "stream",
     "text": [
      "408411\n"
     ]
    }
   ],
   "source": [
    "print(len(no_answer))"
   ]
  },
  {
   "cell_type": "code",
   "execution_count": 56,
   "id": "a285b0a9-cc9c-42c5-8115-f3e2b28bc80b",
   "metadata": {},
   "outputs": [
    {
     "data": {
      "text/plain": [
       "0.003045951259882814"
      ]
     },
     "execution_count": 56,
     "metadata": {},
     "output_type": "execute_result"
    }
   ],
   "source": [
    "sum(np.array(list(map(len, no_answer.values())))>=2)/len(no_answer)"
   ]
  },
  {
   "cell_type": "code",
   "execution_count": null,
   "id": "6c2b6b56-d8f6-43a3-8d74-72bd528fe0cc",
   "metadata": {},
   "outputs": [],
   "source": [
    "def annotation(data_list): # train, val, test 따로 따로 진행 요망.\n",
    "    output = []\n",
    "    total_contexts = set()\n",
    "    c = 0\n",
    "    label_1 = 0\n",
    "    label_0 = 0\n",
    "    label_0_0 = 0\n",
    "    for i in tqdm(data_list,desc='make_context'):\n",
    "        for j in i:\n",
    "            c+=1\n",
    "            total_contexts.add(j['title']+' '.join(j['context'].split())) # 전처리\n",
    "    total_contexts = list(total_contexts)\n",
    "    for i in data_list:\n",
    "        for j in tqdm(i, desc='attach'):\n",
    "            q = j['question']\n",
    "            a = j['answer']\n",
    "            if j['label']==1:\n",
    "                pos = j['title']+' '+' '.join(j['context'].split())\n",
    "                output.append(dict(question=q, answer=a, context=pos, label=1))\n",
    "                label_1+=1\n",
    "                while True:\n",
    "                    tmp = random.choice(total_contexts)\n",
    "                    # list가 아니면 None임 - is impossible임.\n",
    "                    if type(j['answer'])==list:\n",
    "                        for answer in j['answer']:\n",
    "                            if answer in tmp:\n",
    "                                break\n",
    "                        else:\n",
    "                            label_0+=1\n",
    "                            output.append(dict(question=q, answer=a, context=tmp, label=0))\n",
    "                            break \n",
    "                    else:\n",
    "                        if a not in tmp:\n",
    "                            label_0+=1\n",
    "                            output.append(dict(question=q, answer=a, context=tmp, label=0))\n",
    "                            break                        \n",
    "            else:\n",
    "                label_0_0 +=1\n",
    "                neg = j['title']+' '+j['context']\n",
    "                output.append(dict(question=q, answer=a, context=neg, label=2))\n",
    "    print(f'positive 개수 : {label_1}, negative 개수 : {label_0}, is_impossible neagtive 개수 : {label_0_0}, total negative 개수 : {label_0+label_0_0}')\n",
    "    \n",
    "    return output"
   ]
  }
 ],
 "metadata": {
  "kernelspec": {
   "display_name": "Python 3 (ipykernel)",
   "language": "python",
   "name": "python3"
  },
  "language_info": {
   "codemirror_mode": {
    "name": "ipython",
    "version": 3
   },
   "file_extension": ".py",
   "mimetype": "text/x-python",
   "name": "python",
   "nbconvert_exporter": "python",
   "pygments_lexer": "ipython3",
   "version": "3.9.7"
  }
 },
 "nbformat": 4,
 "nbformat_minor": 5
}
