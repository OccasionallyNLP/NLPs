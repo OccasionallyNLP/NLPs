{
 "cells": [
  {
   "cell_type": "code",
   "execution_count": 150,
   "id": "6cea949f-4342-4aa9-8d88-1afb3b876ec9",
   "metadata": {},
   "outputs": [],
   "source": [
    "import pandas as pd\n",
    "import os\n",
    "import json\n",
    "import pickle\n",
    "from tqdm.auto import tqdm\n",
    "import numpy as np\n",
    "from typing import List\n",
    "import re\n",
    "from fast_bm25 import BM25\n",
    "from sklearn.model_selection import train_test_split\n",
    "from utils.utils import *\n",
    "import random\n",
    "from collections import Counter\n",
    "\n",
    "seed_everything(42)"
   ]
  },
  {
   "cell_type": "markdown",
   "id": "2900d883-76ff-4a50-85a3-b62d8531f00a",
   "metadata": {},
   "source": [
    "# KorQuAD"
   ]
  },
  {
   "cell_type": "code",
   "execution_count": 151,
   "id": "a575c51c-b284-49b2-a619-2cee56a08a3a",
   "metadata": {},
   "outputs": [],
   "source": [
    "def make_instance(data:List):\n",
    "    output = []\n",
    "    for article in tqdm(data):\n",
    "        if article.get('title') is not None:\n",
    "            title = article['title']\n",
    "        elif article.get('doc_title') is not None:\n",
    "            title = article['doc_title']\n",
    "        else:\n",
    "            raise Exception('title error')\n",
    "        title = re.sub('_',' ',title)\n",
    "        for paragraph in article['paragraphs']:\n",
    "            context = paragraph['context']\n",
    "            #contexts.append(dict(title=title, context=context))\n",
    "            for qas in paragraph['qas']:\n",
    "                question = qas['question']\n",
    "                if type(qas['answers'])==list:\n",
    "                    answer = [a['text'] for a in qas['answers']]\n",
    "                else:\n",
    "                    answer = qas['answers']['text']\n",
    "                if qas.get('is_impossible') is not None:\n",
    "                    if qas['is_impossible']==True:\n",
    "                        output.append(dict(title=title, context=context, question=question, answer=answer, label=0))\n",
    "                    else:\n",
    "                        output.append(dict(title=title, context=context, question=question, answer=answer, label=1))\n",
    "                else:\n",
    "                    output.append(dict(title=title, context=context, question=question, answer=answer, label=1))\n",
    "    return output"
   ]
  },
  {
   "cell_type": "code",
   "execution_count": 152,
   "id": "3d75cd51-d9aa-4a8c-91d9-e7833afa1f33",
   "metadata": {},
   "outputs": [],
   "source": [
    "def no_answer_make_instance(data:List):\n",
    "    output = []\n",
    "    for article in tqdm(data):\n",
    "        if article.get('title') is not None:\n",
    "            title = article['title']\n",
    "        elif article.get('doc_title') is not None:\n",
    "            title = article['doc_title']\n",
    "        else:\n",
    "            raise Exception('title error')\n",
    "        title = re.sub('_',' ',title)\n",
    "        for paragraph in article['paragraphs']:\n",
    "            context = paragraph['context']\n",
    "            #contexts.append(dict(title=title, context=context))\n",
    "            for qas in paragraph['qas']:\n",
    "                question = qas['question']\n",
    "                answer = qas['answers'] if qas.get('answers') is not None else None\n",
    "                output.append(dict(title=title, context=context, question=question, answer=answer, label=0))\n",
    "    return output"
   ]
  },
  {
   "cell_type": "code",
   "execution_count": 196,
   "id": "f5c1b6b7-8211-4be6-b7ea-6ad86cd472a5",
   "metadata": {},
   "outputs": [],
   "source": [
    "def annotation(data_list): # train, val, test 따로 따로 진행 요망.\n",
    "    output = []\n",
    "    total_contexts = set()\n",
    "    c = 0\n",
    "    label_1 = 0\n",
    "    label_0 = 0\n",
    "    label_0_0 = 0\n",
    "    for i in tqdm(data_list,desc='make_context'):\n",
    "        for j in i:\n",
    "            c+=1\n",
    "            total_contexts.add(j['title']+' '.join(j['context'].split())) # 전처리\n",
    "    total_contexts = list(total_contexts)\n",
    "    for i in data_list:\n",
    "        for j in tqdm(i, desc='attach'):\n",
    "            q = j['question']\n",
    "            a = j['answer']\n",
    "            if j['label']==1:\n",
    "                pos = j['title']+' '+' '.join(j['context'].split())\n",
    "                output.append(dict(question=q, answer=a, context=pos, label=1))\n",
    "                label_1+=1\n",
    "                while True:\n",
    "                    tmp = random.choice(total_contexts)\n",
    "                    # list가 아니면 None임 - is impossible임.\n",
    "                    if type(j['answer'])==list:\n",
    "                        for answer in j['answer']:\n",
    "                            if answer in tmp:\n",
    "                                break\n",
    "                        else:\n",
    "                            label_0+=1\n",
    "                            output.append(dict(question=q, answer=a, context=tmp, label=0))\n",
    "                            break \n",
    "                    else:\n",
    "                        if a not in tmp:\n",
    "                            label_0+=1\n",
    "                            output.append(dict(question=q, answer=a, context=tmp, label=0))\n",
    "                            break                        \n",
    "            else:\n",
    "                label_0_0 +=1\n",
    "                neg = j['title']+' '+j['context']\n",
    "                output.append(dict(question=q, answer=a, context=neg, label=2))\n",
    "    print(f'positive 개수 : {label_1}, negative 개수 : {label_0}, is_impossible neagtive 개수 : {label_0_0}, total negative 개수 : {label_0+label_0_0}')\n",
    "    \n",
    "    return output"
   ]
  },
  {
   "cell_type": "code",
   "execution_count": 154,
   "id": "76b07488-d95e-4fca-8723-d6b4ad875a81",
   "metadata": {},
   "outputs": [],
   "source": [
    "korquad_train = json.load(open('../../data/MRC_data/KorQuAD 1.0/KorQuAD_v1.0_train.json','r'))\n",
    "korquad_dev = json.load(open('../../data/MRC_data/KorQuAD 1.0/KorQuAD_v1.0_dev.json','r'))"
   ]
  },
  {
   "cell_type": "code",
   "execution_count": 155,
   "id": "9854f8c2-54de-4de1-ae61-99b73959e043",
   "metadata": {},
   "outputs": [
    {
     "name": "stderr",
     "output_type": "stream",
     "text": [
      "100%|███████████████████████████████████████████████████████████████████████████| 1420/1420 [00:00<00:00, 16004.92it/s]\n",
      "100%|██████████████████████████████████████████████████████████████████████████████| 140/140 [00:00<00:00, 9462.16it/s]\n"
     ]
    }
   ],
   "source": [
    "korquad_train = make_instance(korquad_train['data'])\n",
    "korquad_dev = make_instance(korquad_dev['data'])"
   ]
  },
  {
   "cell_type": "code",
   "execution_count": 157,
   "id": "3d435226-c957-4160-b482-7139ddd10140",
   "metadata": {},
   "outputs": [],
   "source": [
    "korquad_train, korquad_test = train_test_split(korquad_train, test_size = 0.1, random_state=42, shuffle=True)"
   ]
  },
  {
   "cell_type": "code",
   "execution_count": 158,
   "id": "ab3ff7c7-3ad5-42ba-a348-3c086e5f70a9",
   "metadata": {},
   "outputs": [
    {
     "name": "stderr",
     "output_type": "stream",
     "text": [
      "100%|█████████████████████████████████████████████████████████████████████████| 54366/54366 [00:00<00:00, 72518.31it/s]\n",
      "100%|███████████████████████████████████████████████████████████████████████████| 6041/6041 [00:00<00:00, 48123.77it/s]\n",
      "100%|███████████████████████████████████████████████████████████████████████████| 5774/5774 [00:00<00:00, 76530.46it/s]\n"
     ]
    }
   ],
   "source": [
    "for name,data in zip(['train','dev','test'],[korquad_train, korquad_test, korquad_dev]):\n",
    "    dpr = []\n",
    "    for i in data:\n",
    "        if i['label']==1:\n",
    "            dpr.append(dict(question=i['question'], answer = i['answer'], positive_ctxs=[dict(title=i['title'], context=' '.join(i['context'].split()))]))            \n",
    "    save_jsonl('../../data/dpr/korquad',dpr,name)"
   ]
  },
  {
   "cell_type": "markdown",
   "id": "6366a6ff-a900-42eb-bac4-7342434b613f",
   "metadata": {},
   "source": [
    "## rerank"
   ]
  },
  {
   "cell_type": "code",
   "execution_count": 197,
   "id": "67fd15a2-62ba-41fa-9293-76e0585cb4e0",
   "metadata": {
    "tags": []
   },
   "outputs": [
    {
     "name": "stderr",
     "output_type": "stream",
     "text": [
      "make_context: 100%|██████████████████████████████████████████████████████████████████████| 1/1 [00:00<00:00,  1.06it/s]\n",
      "attach: 100%|█████████████████████████████████████████████████████████████████| 54366/54366 [00:01<00:00, 48800.80it/s]\n"
     ]
    },
    {
     "name": "stdout",
     "output_type": "stream",
     "text": [
      "positive 개수 : 54366, negative 개수 : 54366, is_impossible neagtive 개수 : 0, total negative 개수 : 54366\n"
     ]
    },
    {
     "name": "stderr",
     "output_type": "stream",
     "text": [
      "make_context: 100%|██████████████████████████████████████████████████████████████████████| 1/1 [00:00<00:00, 12.82it/s]\n",
      "attach: 100%|███████████████████████████████████████████████████████████████████| 5774/5774 [00:00<00:00, 54847.99it/s]\n"
     ]
    },
    {
     "name": "stdout",
     "output_type": "stream",
     "text": [
      "positive 개수 : 5774, negative 개수 : 5774, is_impossible neagtive 개수 : 0, total negative 개수 : 5774\n"
     ]
    },
    {
     "name": "stderr",
     "output_type": "stream",
     "text": [
      "make_context: 100%|██████████████████████████████████████████████████████████████████████| 1/1 [00:00<00:00, 12.53it/s]\n",
      "attach: 100%|███████████████████████████████████████████████████████████████████| 6041/6041 [00:00<00:00, 57883.99it/s]"
     ]
    },
    {
     "name": "stdout",
     "output_type": "stream",
     "text": [
      "positive 개수 : 6041, negative 개수 : 6041, is_impossible neagtive 개수 : 0, total negative 개수 : 6041\n"
     ]
    },
    {
     "name": "stderr",
     "output_type": "stream",
     "text": [
      "\n"
     ]
    }
   ],
   "source": [
    "train_data = annotation([korquad_train])\n",
    "dev_data = annotation([korquad_dev])\n",
    "test_data = annotation([korquad_test])"
   ]
  },
  {
   "cell_type": "code",
   "execution_count": 198,
   "id": "747f318f-b0b1-4731-a0e0-8e2c1c02e7a7",
   "metadata": {},
   "outputs": [
    {
     "name": "stderr",
     "output_type": "stream",
     "text": [
      "100%|███████████████████████████████████████████████████████████████████████| 108732/108732 [00:01<00:00, 64412.26it/s]\n",
      "100%|█████████████████████████████████████████████████████████████████████████| 12082/12082 [00:00<00:00, 66260.35it/s]\n",
      "100%|█████████████████████████████████████████████████████████████████████████| 11548/11548 [00:00<00:00, 62308.58it/s]\n"
     ]
    }
   ],
   "source": [
    "save_jsonl('../../data/rerank/korquad',train_data,'train')\n",
    "save_jsonl('../../data/rerank/korquad',test_data,'dev')\n",
    "save_jsonl('../../data/rerank/korquad',dev_data,'test')"
   ]
  },
  {
   "cell_type": "markdown",
   "id": "ce75e15c-c0ca-4dcc-bc0b-79a2b7a07081",
   "metadata": {},
   "source": [
    "# 기계독해 - dev 존재 x"
   ]
  },
  {
   "cell_type": "code",
   "execution_count": 161,
   "id": "ac9d2cbb-1019-4724-b099-9d2f9f6eb82b",
   "metadata": {},
   "outputs": [],
   "source": [
    "mrc_train_1 = json.load(open('../../data/MRC_data/기계독해/기계독해분야/01.Normal/ko_nia_normal_squad_all.json','r',encoding='utf-8'))\n",
    "mrc_train_2 = json.load(open('../../data/MRC_data/기계독해/기계독해분야/02.NoAnswer/ko_nia_noanswer_squad_all.json','r',encoding='utf-8')) # no answer\n",
    "mrc_train_3 = json.load(open('../../data/MRC_data/기계독해/기계독해분야/03.Clue_/ko_nia_clue0529_squad_all.json','r',encoding='utf-8'))"
   ]
  },
  {
   "cell_type": "code",
   "execution_count": 162,
   "id": "979cbb65-547b-494e-ba5e-e90a639536fa",
   "metadata": {},
   "outputs": [
    {
     "name": "stderr",
     "output_type": "stream",
     "text": [
      "100%|█████████████████████████████████████████████████████████████████████████| 47314/47314 [00:04<00:00, 11193.22it/s]\n",
      "100%|████████████████████████████████████████████████████████████████████████| 20030/20030 [00:00<00:00, 143817.10it/s]\n",
      "100%|████████████████████████████████████████████████████████████████████████| 34500/34500 [00:00<00:00, 130272.78it/s]\n"
     ]
    }
   ],
   "source": [
    "mrc_train_1 = make_instance(mrc_train_1['data'])\n",
    "mrc_train_2 = no_answer_make_instance(mrc_train_2['data'])\n",
    "mrc_train_3 = make_instance(mrc_train_3['data'])"
   ]
  },
  {
   "cell_type": "code",
   "execution_count": 163,
   "id": "67c9e34a-db3b-42d2-9434-ba205399c9e2",
   "metadata": {},
   "outputs": [],
   "source": [
    "mrc_train_1, mrc_test_1 = train_test_split(mrc_train_1,test_size = 0.1,random_state=42, shuffle=True)\n",
    "mrc_train_1, mrc_dev_1 = train_test_split(mrc_train_1,test_size = 0.1,random_state=42, shuffle=True)\n",
    "mrc_train_2, mrc_test_2 = train_test_split(mrc_train_2,test_size = 0.1,random_state=42, shuffle=True)\n",
    "mrc_train_2, mrc_dev_2 = train_test_split(mrc_train_2,test_size = 0.1,random_state=42, shuffle=True)\n",
    "mrc_train_3, mrc_test_3 = train_test_split(mrc_train_3,test_size = 0.1,random_state=42, shuffle=True)\n",
    "mrc_train_3, mrc_dev_3 = train_test_split(mrc_train_3,test_size = 0.1,random_state=42, shuffle=True)"
   ]
  },
  {
   "cell_type": "markdown",
   "id": "1317fd28-50d4-4966-ad59-f9ff20870214",
   "metadata": {},
   "source": [
    "## save for dpr"
   ]
  },
  {
   "cell_type": "code",
   "execution_count": 164,
   "id": "41660840-ce77-4316-9389-fedc6bd52bc3",
   "metadata": {},
   "outputs": [
    {
     "name": "stderr",
     "output_type": "stream",
     "text": [
      "100%|███████████████████████████████████████████████████████████████████████| 275469/275469 [00:07<00:00, 37904.52it/s]\n",
      "100%|█████████████████████████████████████████████████████████████████████████| 30609/30609 [00:00<00:00, 36877.52it/s]\n",
      "100%|█████████████████████████████████████████████████████████████████████████| 34010/34010 [00:00<00:00, 37150.25it/s]\n"
     ]
    }
   ],
   "source": [
    "for name,data in zip(['train','dev','test'],[mrc_train_1+mrc_train_3, mrc_dev_1+mrc_dev_3, mrc_test_1+mrc_test_3]):\n",
    "    dpr = []\n",
    "    for i in data:\n",
    "        if i['label']==1:\n",
    "            dpr.append(dict(question=i['question'], answer = i['answer'], positive_ctxs=[dict(title=i['title'], context=' '.join(i['context'].split()))]))            \n",
    "    save_jsonl('../../data/dpr/mrc',dpr,name)"
   ]
  },
  {
   "cell_type": "markdown",
   "id": "17359244-0564-4cef-bc80-25cbf3ee9f3b",
   "metadata": {},
   "source": [
    "## rerank"
   ]
  },
  {
   "cell_type": "code",
   "execution_count": 199,
   "id": "1015a834-d00b-4fc9-98e7-e2234399ed66",
   "metadata": {},
   "outputs": [
    {
     "name": "stderr",
     "output_type": "stream",
     "text": [
      "make_context: 100%|██████████████████████████████████████████████████████████████████████| 3/3 [00:08<00:00,  2.76s/it]\n",
      "attach: 100%|███████████████████████████████████████████████████████████████| 197173/197173 [00:05<00:00, 37763.73it/s]\n",
      "attach: 100%|████████████████████████████████████████████████████████████████| 81197/81197 [00:00<00:00, 413660.84it/s]\n",
      "attach: 100%|█████████████████████████████████████████████████████████████████| 78296/78296 [00:01<00:00, 43811.95it/s]\n"
     ]
    },
    {
     "name": "stdout",
     "output_type": "stream",
     "text": [
      "positive 개수 : 275469, negative 개수 : 275469, is_impossible neagtive 개수 : 81197, total negative 개수 : 356666\n"
     ]
    },
    {
     "name": "stderr",
     "output_type": "stream",
     "text": [
      "make_context: 100%|██████████████████████████████████████████████████████████████████████| 3/3 [00:00<00:00,  3.45it/s]\n",
      "attach: 100%|█████████████████████████████████████████████████████████████████| 21909/21909 [00:00<00:00, 34562.07it/s]\n",
      "attach: 100%|██████████████████████████████████████████████████████████████████| 9022/9022 [00:00<00:00, 271830.72it/s]\n",
      "attach: 100%|███████████████████████████████████████████████████████████████████| 8700/8700 [00:00<00:00, 49471.46it/s]\n"
     ]
    },
    {
     "name": "stdout",
     "output_type": "stream",
     "text": [
      "positive 개수 : 30609, negative 개수 : 30609, is_impossible neagtive 개수 : 9022, total negative 개수 : 39631\n"
     ]
    },
    {
     "name": "stderr",
     "output_type": "stream",
     "text": [
      "make_context: 100%|██████████████████████████████████████████████████████████████████████| 3/3 [00:00<00:00,  3.15it/s]\n",
      "attach: 100%|█████████████████████████████████████████████████████████████████| 24343/24343 [00:00<00:00, 31084.23it/s]\n",
      "attach: 100%|████████████████████████████████████████████████████████████████| 10025/10025 [00:00<00:00, 213172.74it/s]\n",
      "attach: 100%|███████████████████████████████████████████████████████████████████| 9667/9667 [00:00<00:00, 36709.20it/s]"
     ]
    },
    {
     "name": "stdout",
     "output_type": "stream",
     "text": [
      "positive 개수 : 34010, negative 개수 : 34010, is_impossible neagtive 개수 : 10025, total negative 개수 : 44035\n"
     ]
    },
    {
     "name": "stderr",
     "output_type": "stream",
     "text": [
      "\n"
     ]
    }
   ],
   "source": [
    "train_data = annotation([mrc_train_1,mrc_train_2,mrc_train_3])\n",
    "dev_data = annotation([mrc_dev_1,mrc_dev_2,mrc_dev_3])\n",
    "test_data = annotation([mrc_test_1,mrc_test_2,mrc_test_3])"
   ]
  },
  {
   "cell_type": "code",
   "execution_count": 200,
   "id": "ca08cbd9-8eec-4dc6-9255-215dd40dca28",
   "metadata": {},
   "outputs": [
    {
     "name": "stderr",
     "output_type": "stream",
     "text": [
      "100%|███████████████████████████████████████████████████████████████████████| 632135/632135 [00:14<00:00, 44520.97it/s]\n",
      "100%|█████████████████████████████████████████████████████████████████████████| 70240/70240 [00:01<00:00, 43392.64it/s]\n",
      "100%|█████████████████████████████████████████████████████████████████████████| 78045/78045 [00:01<00:00, 45472.20it/s]\n"
     ]
    }
   ],
   "source": [
    "save_jsonl('../../data/rerank/mrc',train_data,'train')\n",
    "save_jsonl('../../data/rerank/mrc',dev_data,'dev')\n",
    "save_jsonl('../../data/rerank/mrc',test_data,'test')"
   ]
  },
  {
   "cell_type": "markdown",
   "id": "562db381-d866-4205-bd62-048f0171315b",
   "metadata": {},
   "source": [
    "# 도서자료 기계독해 - dev 존재"
   ]
  },
  {
   "cell_type": "code",
   "execution_count": 167,
   "id": "89358a9f-0b32-44f1-8515-8c7c4ccf897e",
   "metadata": {},
   "outputs": [],
   "source": [
    "book_mrc_train = json.load(open('../../data/MRC_data/도서자료 기계독해/Training/도서_train/도서_220419_add/도서_220419_add.json','r',encoding='utf-8'))\n",
    "book_mrc_dev = json.load(open('../../data/MRC_data/도서자료 기계독해/Validation/도서_valid/도서.json','r',encoding='utf-8'))"
   ]
  },
  {
   "cell_type": "code",
   "execution_count": 168,
   "id": "e21f1d6e-f1e2-472f-8d6a-38cbe15021d5",
   "metadata": {},
   "outputs": [
    {
     "name": "stderr",
     "output_type": "stream",
     "text": [
      "100%|████████████████████████████████████████████████████████████████████████████| 5368/5368 [00:04<00:00, 1153.91it/s]\n",
      "100%|█████████████████████████████████████████████████████████████████████████████| 1994/1994 [00:02<00:00, 969.10it/s]\n"
     ]
    }
   ],
   "source": [
    "book_mrc_train = make_instance(book_mrc_train['data'])\n",
    "book_mrc_dev = make_instance(book_mrc_dev['data'])"
   ]
  },
  {
   "cell_type": "code",
   "execution_count": 169,
   "id": "55df8f04-3b6b-4f20-b5e7-daf4f21b4503",
   "metadata": {},
   "outputs": [],
   "source": [
    "book_mrc_train, book_mrc_test = train_test_split(book_mrc_train,test_size = 0.05,random_state=42, shuffle=True)"
   ]
  },
  {
   "cell_type": "code",
   "execution_count": 170,
   "id": "515abb39-6e0e-4804-b3a6-74d0fc0ab7b0",
   "metadata": {},
   "outputs": [
    {
     "name": "stderr",
     "output_type": "stream",
     "text": [
      "100%|███████████████████████████████████████████████████████████████████████| 598504/598504 [00:08<00:00, 74054.62it/s]\n",
      "100%|█████████████████████████████████████████████████████████████████████████| 31496/31496 [00:00<00:00, 77213.09it/s]\n",
      "100%|█████████████████████████████████████████████████████████████████████████| 35000/35000 [00:00<00:00, 82350.55it/s]\n"
     ]
    }
   ],
   "source": [
    "for name,data in zip(['train','dev','test'],[book_mrc_train, book_mrc_test, book_mrc_dev]):\n",
    "    dpr = []\n",
    "    for i in data:\n",
    "        if i['label']==1:\n",
    "            dpr.append(dict(question=i['question'], answer = i['answer'], positive_ctxs=[dict(title=i['title'], context=' '.join(i['context'].split()))]))            \n",
    "    save_jsonl('../../data/dpr/book',dpr,name)"
   ]
  },
  {
   "cell_type": "markdown",
   "id": "11f4abec-28b7-4005-a8ff-71d4c2f29a17",
   "metadata": {},
   "source": [
    "## rerank"
   ]
  },
  {
   "cell_type": "code",
   "execution_count": 201,
   "id": "d2deecc6-09d6-4c19-ac3d-4b30abbbf2c5",
   "metadata": {},
   "outputs": [
    {
     "name": "stderr",
     "output_type": "stream",
     "text": [
      "make_context: 100%|██████████████████████████████████████████████████████████████████████| 1/1 [00:15<00:00, 15.77s/it]\n",
      "attach: 100%|███████████████████████████████████████████████████████████████| 855000/855000 [00:23<00:00, 36425.75it/s]\n"
     ]
    },
    {
     "name": "stdout",
     "output_type": "stream",
     "text": [
      "positive 개수 : 598504, negative 개수 : 598504, is_impossible neagtive 개수 : 256496, total negative 개수 : 855000\n"
     ]
    },
    {
     "name": "stderr",
     "output_type": "stream",
     "text": [
      "make_context: 100%|██████████████████████████████████████████████████████████████████████| 1/1 [00:00<00:00,  1.35it/s]\n",
      "attach: 100%|█████████████████████████████████████████████████████████████████| 45000/45000 [00:00<00:00, 67871.44it/s]\n"
     ]
    },
    {
     "name": "stdout",
     "output_type": "stream",
     "text": [
      "positive 개수 : 31496, negative 개수 : 31496, is_impossible neagtive 개수 : 13504, total negative 개수 : 45000\n"
     ]
    },
    {
     "name": "stderr",
     "output_type": "stream",
     "text": [
      "make_context: 100%|██████████████████████████████████████████████████████████████████████| 1/1 [00:00<00:00,  1.83it/s]\n",
      "attach: 100%|█████████████████████████████████████████████████████████████████| 50000/50000 [00:00<00:00, 99673.25it/s]\n"
     ]
    },
    {
     "name": "stdout",
     "output_type": "stream",
     "text": [
      "positive 개수 : 35000, negative 개수 : 35000, is_impossible neagtive 개수 : 15000, total negative 개수 : 50000\n"
     ]
    }
   ],
   "source": [
    "train_data = annotation([book_mrc_train])\n",
    "dev_data = annotation([book_mrc_test])\n",
    "test_data = annotation([book_mrc_dev])"
   ]
  },
  {
   "cell_type": "code",
   "execution_count": 202,
   "id": "42dee53f-f22d-4f07-a06b-e73451caab08",
   "metadata": {},
   "outputs": [
    {
     "name": "stderr",
     "output_type": "stream",
     "text": [
      "100%|█████████████████████████████████████████████████████████████████████| 1453504/1453504 [00:20<00:00, 71816.57it/s]\n",
      "100%|█████████████████████████████████████████████████████████████████████████| 76496/76496 [00:01<00:00, 70673.82it/s]\n",
      "100%|█████████████████████████████████████████████████████████████████████████| 85000/85000 [00:01<00:00, 73231.50it/s]\n"
     ]
    }
   ],
   "source": [
    "save_jsonl('../../data/rerank/book',train_data, 'train')\n",
    "save_jsonl('../../data/rerank/book',dev_data, 'dev')\n",
    "save_jsonl('../../data/rerank/book',test_data, 'test')"
   ]
  },
  {
   "cell_type": "markdown",
   "id": "398ee1fa-38a9-4b58-8472-97db16da8a6f",
   "metadata": {},
   "source": [
    "# 행정문서 기계독해"
   ]
  },
  {
   "cell_type": "code",
   "execution_count": 174,
   "id": "1c0d621b-9257-4f35-b914-d947f89bad56",
   "metadata": {},
   "outputs": [],
   "source": [
    "ad_train_1 = json.load(open('../../data/MRC_data/행정 문서 대상 기계독해/01.데이터/1.Training/라벨링데이터/TL_multiple_choice/TL_multiple_choice.json','r',encoding='utf-8'))\n",
    "ad_train_2 = json.load(open('../../data/MRC_data/행정 문서 대상 기계독해/01.데이터/1.Training/라벨링데이터/TL_span_extraction/TL_span_extraction.json','r',encoding='utf-8'))\n",
    "ad_train_3 = json.load(open('../../data/MRC_data/행정 문서 대상 기계독해/01.데이터/1.Training/라벨링데이터/TL_span_extraction_how/TL_span_extraction_how.json','r',encoding='utf-8'))\n",
    "ad_train_4 = json.load(open('../../data/MRC_data/행정 문서 대상 기계독해/01.데이터/1.Training/라벨링데이터/TL_unanswerable/TL_unanswerable.json','r',encoding='utf-8')) # NO\n",
    "ad_train_5 = json.load(open('../../data/MRC_data/행정 문서 대상 기계독해/01.데이터/1.Training/라벨링데이터/TL_text_entailment/TL_text_entailment.json','r',encoding='utf-8'))\n",
    "\n",
    "ad_dev_1 = json.load(open('../../data/MRC_data/행정 문서 대상 기계독해/01.데이터/2.Validation/라벨링데이터/VL_multiple_choice/VL_multiple_choice.json','r',encoding='utf-8'))\n",
    "ad_dev_2 = json.load(open('../../data/MRC_data/행정 문서 대상 기계독해/01.데이터/2.Validation/라벨링데이터/VL_span_extraction/VL_span_extraction.json','r',encoding='utf-8'))\n",
    "ad_dev_3 = json.load(open('../../data/MRC_data/행정 문서 대상 기계독해/01.데이터/2.Validation/라벨링데이터/VL_span_extraction_how/VL_span_extraction_how.json','r',encoding='utf-8'))\n",
    "# NO\n",
    "ad_dev_4 = json.load(open('../../data/MRC_data/행정 문서 대상 기계독해/01.데이터/2.Validation/라벨링데이터/VL_unanswerable/VL_unanswerable.json','r',encoding='utf-8'))\n",
    "ad_dev_5 = json.load(open('../../data/MRC_data/행정 문서 대상 기계독해/01.데이터/2.Validation/라벨링데이터/VL_text_entailment/VL_text_entailment.json','r',encoding='utf-8'))"
   ]
  },
  {
   "cell_type": "code",
   "execution_count": 175,
   "id": "b6125151-8f2a-4fc6-8c7b-023b85f27b58",
   "metadata": {
    "tags": []
   },
   "outputs": [
    {
     "name": "stderr",
     "output_type": "stream",
     "text": [
      "100%|████████████████████████████████████████████████████████████████████████| 15085/15085 [00:00<00:00, 280244.48it/s]\n",
      "100%|████████████████████████████████████████████████████████████████████████| 63932/63932 [00:00<00:00, 398514.79it/s]\n",
      "100%|████████████████████████████████████████████████████████████████████████| 29074/29074 [00:00<00:00, 420931.76it/s]\n",
      "100%|██████████████████████████████████████████████████████████████████████████| 9828/9828 [00:00<00:00, 306075.38it/s]\n",
      "100%|████████████████████████████████████████████████████████████████████████| 16872/16872 [00:00<00:00, 299386.55it/s]\n",
      "100%|██████████████████████████████████████████████████████████████████████████| 2813/2813 [00:00<00:00, 279646.78it/s]\n",
      "100%|████████████████████████████████████████████████████████████████████████| 11985/11985 [00:00<00:00, 466012.18it/s]\n",
      "100%|██████████████████████████████████████████████████████████████████████████| 5458/5458 [00:00<00:00, 640260.42it/s]\n",
      "100%|██████████████████████████████████████████████████████████████████████████| 1843/1843 [00:00<00:00, 460893.29it/s]\n",
      "100%|██████████████████████████████████████████████████████████████████████████| 3154/3154 [00:00<00:00, 398075.19it/s]\n"
     ]
    }
   ],
   "source": [
    "ad_train_1 =make_instance(ad_train_1['data'])\n",
    "ad_train_2 =make_instance(ad_train_2['data'])\n",
    "ad_train_3 =make_instance(ad_train_3['data'])\n",
    "ad_train_4 =no_answer_make_instance(ad_train_4['data'])\n",
    "ad_train_5 =make_instance(ad_train_5['data'])\n",
    "\n",
    "ad_dev_1 = make_instance(ad_dev_1['data'])\n",
    "ad_dev_2 = make_instance(ad_dev_2['data'])\n",
    "ad_dev_3 = make_instance(ad_dev_3['data'])\n",
    "ad_dev_4 = no_answer_make_instance(ad_dev_4['data'])\n",
    "ad_dev_5 = make_instance(ad_dev_5['data'])"
   ]
  },
  {
   "cell_type": "code",
   "execution_count": 176,
   "id": "8fbf8185-918e-418c-ba03-f65eea385f79",
   "metadata": {},
   "outputs": [],
   "source": [
    "ad_train_1,ad_test_1 = train_test_split(ad_train_1,test_size = 0.1,random_state=42, shuffle=True)\n",
    "ad_train_2,ad_test_2 = train_test_split(ad_train_2,test_size = 0.1,random_state=42, shuffle=True)\n",
    "ad_train_3, ad_test_3 = train_test_split(ad_train_3,test_size = 0.1,random_state=42, shuffle=True)\n",
    "ad_train_4, ad_test_4 = train_test_split(ad_train_4,test_size = 0.1,random_state=42, shuffle=True)\n",
    "ad_train_5, ad_test_5 = train_test_split(ad_train_5,test_size = 0.1,random_state=42, shuffle=True)"
   ]
  },
  {
   "cell_type": "code",
   "execution_count": 177,
   "id": "be9b6e41-0777-49f8-b43f-81d720603f7f",
   "metadata": {},
   "outputs": [],
   "source": [
    "ad_train = ad_train_1+ad_train_2+ad_train_3+ad_train_5\n",
    "ad_dev = ad_dev_1+ad_dev_2+ad_dev_3+ad_dev_5\n",
    "ad_test = ad_test_1+ad_test_2+ad_test_3+ad_test_5"
   ]
  },
  {
   "cell_type": "code",
   "execution_count": 178,
   "id": "629891fd-71e0-4b08-bce8-95f698b364e6",
   "metadata": {},
   "outputs": [
    {
     "name": "stderr",
     "output_type": "stream",
     "text": [
      "100%|███████████████████████████████████████████████████████████████████████| 187391/187391 [00:02<00:00, 80435.29it/s]\n",
      "100%|█████████████████████████████████████████████████████████████████████████| 20822/20822 [00:00<00:00, 76783.85it/s]\n",
      "100%|█████████████████████████████████████████████████████████████████████████| 26026/26026 [00:00<00:00, 82950.57it/s]\n"
     ]
    }
   ],
   "source": [
    "for name,data in zip(['train','dev','test'],[ad_train, ad_test, ad_dev]):\n",
    "    dpr = []\n",
    "    for i in data:\n",
    "        if i['label']==1:\n",
    "            dpr.append(dict(question=i['question'], answer = i['answer'], positive_ctxs=[dict(title=i['title'], context=' '.join(i['context'].split()))]))            \n",
    "    path = '../../data/dpr/ad'\n",
    "    os.makedirs(path, exist_ok=True)\n",
    "    save_jsonl(path,dpr,name)"
   ]
  },
  {
   "cell_type": "code",
   "execution_count": 203,
   "id": "43b2433a-586c-4be0-8659-2089531f85c9",
   "metadata": {},
   "outputs": [
    {
     "name": "stderr",
     "output_type": "stream",
     "text": [
      "make_context: 100%|██████████████████████████████████████████████████████████████████████| 2/2 [00:04<00:00,  2.13s/it]\n",
      "attach: 100%|███████████████████████████████████████████████████████████████| 187391/187391 [00:03<00:00, 49140.85it/s]\n",
      "attach: 100%|████████████████████████████████████████████████████████████████| 14760/14760 [00:00<00:00, 521071.02it/s]\n"
     ]
    },
    {
     "name": "stdout",
     "output_type": "stream",
     "text": [
      "positive 개수 : 187391, negative 개수 : 187391, is_impossible neagtive 개수 : 14760, total negative 개수 : 202151\n"
     ]
    },
    {
     "name": "stderr",
     "output_type": "stream",
     "text": [
      "make_context: 100%|██████████████████████████████████████████████████████████████████████| 2/2 [00:00<00:00,  5.30it/s]\n",
      "attach: 100%|█████████████████████████████████████████████████████████████████| 20822/20822 [00:00<00:00, 53794.19it/s]\n",
      "attach: 100%|██████████████████████████████████████████████████████████████████████████████| 1640/1640 [00:00<?, ?it/s]\n"
     ]
    },
    {
     "name": "stdout",
     "output_type": "stream",
     "text": [
      "positive 개수 : 20822, negative 개수 : 20822, is_impossible neagtive 개수 : 1640, total negative 개수 : 22462\n"
     ]
    },
    {
     "name": "stderr",
     "output_type": "stream",
     "text": [
      "make_context: 100%|██████████████████████████████████████████████████████████████████████| 2/2 [00:00<00:00,  2.98it/s]\n",
      "attach: 100%|█████████████████████████████████████████████████████████████████| 26026/26026 [00:00<00:00, 57265.06it/s]\n",
      "attach: 100%|██████████████████████████████████████████████████████████████████████████████| 2050/2050 [00:00<?, ?it/s]"
     ]
    },
    {
     "name": "stdout",
     "output_type": "stream",
     "text": [
      "positive 개수 : 26026, negative 개수 : 26026, is_impossible neagtive 개수 : 2050, total negative 개수 : 28076\n"
     ]
    },
    {
     "name": "stderr",
     "output_type": "stream",
     "text": [
      "\n"
     ]
    }
   ],
   "source": [
    "train_data = annotation([ad_train, ad_train_4])\n",
    "dev_data = annotation([ad_test, ad_test_4])\n",
    "test_data = annotation([ad_dev, ad_dev_4])"
   ]
  },
  {
   "cell_type": "code",
   "execution_count": 204,
   "id": "0dd8273e-a16e-45e3-a7ca-6834a28c9a4a",
   "metadata": {},
   "outputs": [
    {
     "name": "stderr",
     "output_type": "stream",
     "text": [
      "100%|███████████████████████████████████████████████████████████████████████| 389542/389542 [00:06<00:00, 63476.39it/s]\n",
      "100%|█████████████████████████████████████████████████████████████████████████| 43284/43284 [00:00<00:00, 62666.66it/s]\n",
      "100%|█████████████████████████████████████████████████████████████████████████| 54102/54102 [00:00<00:00, 61542.66it/s]\n"
     ]
    }
   ],
   "source": [
    "save_jsonl('../../data/rerank/ad',train_data, 'train')\n",
    "save_jsonl('../../data/rerank/ad',dev_data, 'dev')\n",
    "save_jsonl('../../data/rerank/ad',test_data, 'test')"
   ]
  },
  {
   "cell_type": "markdown",
   "id": "f4067c79-dd93-4ed2-b88a-33dc611cfd72",
   "metadata": {},
   "source": [
    "# 뉴스 기사 기계독해"
   ]
  },
  {
   "cell_type": "code",
   "execution_count": 181,
   "id": "72ea8d4e-51a3-4e80-81ad-2c073055bfa5",
   "metadata": {},
   "outputs": [],
   "source": [
    "news_mrc_train_1 = json.load(open('../../data/MRC_data/뉴스 기사 기계독해/01.데이터/1.Training/라벨링데이터/TL_text_entailment/TL_text_entailment.json','r',encoding='utf-8'))\n",
    "news_mrc_train_2 = json.load(open('../../data/MRC_data/뉴스 기사 기계독해/01.데이터/1.Training/라벨링데이터/TL_span_extraction/TL_span_extraction.json','r',encoding='utf-8'))\n",
    "news_mrc_train_3 = json.load(open('../../data/MRC_data/뉴스 기사 기계독해/01.데이터/1.Training/라벨링데이터_221115_add/TL_span_inference/TL_span_inference.json','r',encoding='utf-8'))\n",
    "news_mrc_train_4 = json.load(open('../../data//MRC_data/뉴스 기사 기계독해/01.데이터/1.Training/라벨링데이터/TL_unanswerable/TL_unanswerable.json','r',encoding='utf-8'))\n",
    "news_mrc_dev_1 = json.load(open('../../data/MRC_data/뉴스 기사 기계독해/01.데이터/2.Validation/라벨링데이터/VL_span_extraction/VL_span_extraction.json','r',encoding='utf-8'))\n",
    "news_mrc_dev_2 = json.load(open('../../data/MRC_data/뉴스 기사 기계독해/01.데이터/2.Validation/라벨링데이터/VL_span_inference/VL_span_inference.json','r',encoding='utf-8'))\n",
    "news_mrc_dev_3 = json.load(open('../../data/MRC_data/뉴스 기사 기계독해/01.데이터/2.Validation/라벨링데이터/VL_text_entailment/VL_text_entailment.json','r',encoding='utf-8'))\n",
    "news_mrc_dev_4 = json.load(open('../../data//MRC_data/뉴스 기사 기계독해/01.데이터/2.Validation/라벨링데이터/VL_unanswerable/VL_unanswerable.json','r',encoding='utf-8'))"
   ]
  },
  {
   "cell_type": "code",
   "execution_count": 182,
   "id": "7b51a420-467d-4d11-af08-345618e4b230",
   "metadata": {},
   "outputs": [
    {
     "name": "stderr",
     "output_type": "stream",
     "text": [
      "100%|████████████████████████████████████████████████████████████████████████| 24009/24009 [00:00<00:00, 297910.05it/s]\n",
      "100%|██████████████████████████████████████████████████████████████████████| 111967/111967 [00:00<00:00, 339304.56it/s]\n",
      "100%|████████████████████████████████████████████████████████████████████████| 15992/15992 [00:00<00:00, 368600.34it/s]\n",
      "100%|██████████████████████████████████████████████████████████████████████████| 8000/8000 [00:00<00:00, 397145.57it/s]\n",
      "100%|████████████████████████████████████████████████████████████████████████| 13997/13997 [00:00<00:00, 314432.40it/s]\n",
      "100%|██████████████████████████████████████████████████████████████████████████| 1999/1999 [00:00<00:00, 333071.69it/s]\n",
      "100%|██████████████████████████████████████████████████████████████████████████| 3001/3001 [00:00<00:00, 261833.18it/s]\n",
      "100%|██████████████████████████████████████████████████████████████████████████| 1000/1000 [00:00<00:00, 333278.03it/s]\n"
     ]
    }
   ],
   "source": [
    "news_mrc_train_1 = make_instance(news_mrc_train_1['data'])\n",
    "news_mrc_train_2 = make_instance(news_mrc_train_2['data'])\n",
    "news_mrc_train_3 = make_instance(news_mrc_train_3['data'])\n",
    "news_mrc_train_4 = no_answer_make_instance(news_mrc_train_4['data'])\n",
    "news_mrc_dev_1 = make_instance(news_mrc_dev_1['data'])\n",
    "news_mrc_dev_2 = make_instance(news_mrc_dev_2['data'])\n",
    "news_mrc_dev_3 = make_instance(news_mrc_dev_3['data'])\n",
    "news_mrc_dev_4 = no_answer_make_instance(news_mrc_dev_4['data'])"
   ]
  },
  {
   "cell_type": "code",
   "execution_count": 183,
   "id": "e60a66ed-8729-4101-85b4-fd8636bf52ab",
   "metadata": {},
   "outputs": [],
   "source": [
    "news_mrc_train_1, news_mrc_test_1 = train_test_split(news_mrc_train_1,test_size = 0.1,random_state=42, shuffle=True)\n",
    "news_mrc_train_2, news_mrc_test_2 = train_test_split(news_mrc_train_2,test_size = 0.1,random_state=42, shuffle=True)\n",
    "news_mrc_train_3, news_mrc_test_3 = train_test_split(news_mrc_train_3,test_size = 0.1,random_state=42, shuffle=True)"
   ]
  },
  {
   "cell_type": "code",
   "execution_count": 184,
   "id": "7e01b7b2-a7d7-4c64-9c34-a017f8d3d39e",
   "metadata": {},
   "outputs": [],
   "source": [
    "news_mrc_train_4, news_mrc_test_4 = train_test_split(news_mrc_train_4,test_size = 0.1,random_state=42, shuffle=True)"
   ]
  },
  {
   "cell_type": "code",
   "execution_count": 205,
   "id": "3e520d34-d366-4df1-bbb5-a89100d44f14",
   "metadata": {},
   "outputs": [],
   "source": [
    "news_train = news_mrc_train_1+news_mrc_train_2+news_mrc_train_3\n",
    "news_dev = news_mrc_dev_1+news_mrc_dev_2+news_mrc_dev_3\n",
    "news_test = news_mrc_test_1+news_mrc_test_2+news_mrc_test_3"
   ]
  },
  {
   "cell_type": "code",
   "execution_count": 186,
   "id": "e763a7e4-66e0-4314-bede-fee60898913c",
   "metadata": {},
   "outputs": [
    {
     "name": "stderr",
     "output_type": "stream",
     "text": [
      "100%|███████████████████████████████████████████████████████████████████████| 273543/273543 [00:04<00:00, 62682.90it/s]\n",
      "100%|█████████████████████████████████████████████████████████████████████████| 30395/30395 [00:00<00:00, 60679.41it/s]\n",
      "100%|█████████████████████████████████████████████████████████████████████████| 37996/37996 [00:00<00:00, 67096.74it/s]\n"
     ]
    }
   ],
   "source": [
    "for name,data in zip(['train','dev','test'],[news_train, news_test, news_dev]):\n",
    "    dpr = []\n",
    "    for i in data:\n",
    "        if i['label']==1:\n",
    "            dpr.append(dict(question=i['question'], answer = i['answer'], positive_ctxs=[dict(title=i['title'], context=' '.join(i['context'].split()))]))            \n",
    "    path = '../../data/dpr/news'\n",
    "    os.makedirs(path, exist_ok=True)\n",
    "    save_jsonl(path,dpr,name)"
   ]
  },
  {
   "cell_type": "code",
   "execution_count": 206,
   "id": "33a24e8b-d8d7-4e78-a84f-03e4de4449f4",
   "metadata": {},
   "outputs": [
    {
     "name": "stderr",
     "output_type": "stream",
     "text": [
      "make_context: 100%|██████████████████████████████████████████████████████████████████████| 2/2 [00:06<00:00,  3.50s/it]\n",
      "attach: 100%|███████████████████████████████████████████████████████████████| 273543/273543 [00:10<00:00, 26254.30it/s]\n",
      "attach: 100%|████████████████████████████████████████████████████████████████| 14400/14400 [00:00<00:00, 453802.81it/s]\n"
     ]
    },
    {
     "name": "stdout",
     "output_type": "stream",
     "text": [
      "positive 개수 : 273543, negative 개수 : 273543, is_impossible neagtive 개수 : 14400, total negative 개수 : 287943\n"
     ]
    },
    {
     "name": "stderr",
     "output_type": "stream",
     "text": [
      "make_context: 100%|██████████████████████████████████████████████████████████████████████| 2/2 [00:00<00:00,  2.97it/s]\n",
      "attach: 100%|█████████████████████████████████████████████████████████████████| 30395/30395 [00:00<00:00, 43033.19it/s]\n",
      "attach: 100%|██████████████████████████████████████████████████████████████████████████████| 1600/1600 [00:00<?, ?it/s]\n"
     ]
    },
    {
     "name": "stdout",
     "output_type": "stream",
     "text": [
      "positive 개수 : 30395, negative 개수 : 30395, is_impossible neagtive 개수 : 1600, total negative 개수 : 31995\n"
     ]
    },
    {
     "name": "stderr",
     "output_type": "stream",
     "text": [
      "make_context: 100%|██████████████████████████████████████████████████████████████████████| 2/2 [00:01<00:00,  1.70it/s]\n",
      "attach: 100%|█████████████████████████████████████████████████████████████████| 37996/37996 [00:00<00:00, 40330.66it/s]\n",
      "attach: 100%|██████████████████████████████████████████████████████████████████████████████| 2000/2000 [00:00<?, ?it/s]"
     ]
    },
    {
     "name": "stdout",
     "output_type": "stream",
     "text": [
      "positive 개수 : 37996, negative 개수 : 37996, is_impossible neagtive 개수 : 2000, total negative 개수 : 39996\n"
     ]
    },
    {
     "name": "stderr",
     "output_type": "stream",
     "text": [
      "\n"
     ]
    }
   ],
   "source": [
    "train_data = annotation([news_train, news_mrc_train_4])\n",
    "dev_data = annotation([news_test, news_mrc_test_4])\n",
    "test_data = annotation([news_dev, news_mrc_dev_4])"
   ]
  },
  {
   "cell_type": "code",
   "execution_count": 207,
   "id": "fae50bd1-da3a-410e-9024-ddc6f8f5a75b",
   "metadata": {},
   "outputs": [
    {
     "name": "stderr",
     "output_type": "stream",
     "text": [
      "100%|███████████████████████████████████████████████████████████████████████| 561486/561486 [00:10<00:00, 54358.41it/s]\n",
      "100%|█████████████████████████████████████████████████████████████████████████| 62390/62390 [00:01<00:00, 52483.35it/s]\n",
      "100%|█████████████████████████████████████████████████████████████████████████| 77992/77992 [00:01<00:00, 49064.32it/s]\n"
     ]
    }
   ],
   "source": [
    "save_jsonl('../../data/rerank/news',train_data, 'train')\n",
    "save_jsonl('../../data/rerank/news',dev_data, 'dev')\n",
    "save_jsonl('../../data/rerank/news',test_data, 'test')"
   ]
  },
  {
   "cell_type": "markdown",
   "id": "d943e0be-ef56-44f2-8787-cf7bb199fffc",
   "metadata": {
    "tags": []
   },
   "source": [
    "# KLUE MRC"
   ]
  },
  {
   "cell_type": "code",
   "execution_count": 189,
   "id": "d1ef6dba-80bb-4d5f-8ad6-0a4420c72efc",
   "metadata": {},
   "outputs": [],
   "source": [
    "def klue_make_instance(data:List):\n",
    "    output = []\n",
    "    for article in tqdm(data):\n",
    "        title = article['title']\n",
    "        context = article['context']\n",
    "        question = article['question']\n",
    "        answer = article['answers']['text']\n",
    "        if article['is_impossible']==False:\n",
    "            output.append(dict(title=title, context=context, question=question, answer=answer, label=1))\n",
    "        else:\n",
    "            output.append(dict(title=title, context=context, question=question, answer=answer, label=0))\n",
    "    return output"
   ]
  },
  {
   "cell_type": "code",
   "execution_count": 210,
   "id": "5c4f7d92-ec67-4a5b-a366-5ee6d735ac71",
   "metadata": {},
   "outputs": [
    {
     "name": "stderr",
     "output_type": "stream",
     "text": [
      "Reusing dataset klue (C:\\Users\\User\\.cache\\huggingface\\datasets\\klue\\mrc\\1.0.0\\e0fc3bc3de3eb03be2c92d72fd04a60ecc71903f821619cb28ca0e1e29e4233e)\n"
     ]
    },
    {
     "data": {
      "application/vnd.jupyter.widget-view+json": {
       "model_id": "c94c68e89c8d48a4a937ad500269b522",
       "version_major": 2,
       "version_minor": 0
      },
      "text/plain": [
       "  0%|          | 0/2 [00:00<?, ?it/s]"
      ]
     },
     "metadata": {},
     "output_type": "display_data"
    }
   ],
   "source": [
    "from datasets import load_dataset\n",
    "dataset = load_dataset('klue', 'mrc')\t# klue dataset 중에 sts를 가져옴"
   ]
  },
  {
   "cell_type": "code",
   "execution_count": 191,
   "id": "4aa3b86a-bd85-412d-a63c-c4a563a8e7ba",
   "metadata": {},
   "outputs": [
    {
     "name": "stderr",
     "output_type": "stream",
     "text": [
      "100%|█████████████████████████████████████████████████████████████████████████| 17554/17554 [00:01<00:00, 11366.41it/s]\n",
      "100%|███████████████████████████████████████████████████████████████████████████| 5841/5841 [00:00<00:00, 11423.31it/s]\n"
     ]
    }
   ],
   "source": [
    "klue_mrc_train = klue_make_instance(dataset['train'])\n",
    "klue_mrc_dev = klue_make_instance(dataset['validation'])"
   ]
  },
  {
   "cell_type": "code",
   "execution_count": 192,
   "id": "4d64ff24-b96a-4a1d-a6aa-52f1e79bd68f",
   "metadata": {},
   "outputs": [],
   "source": [
    "klue_mrc_train, klue_mrc_test = train_test_split(klue_mrc_train,test_size = 0.2, random_state=42, shuffle=True)"
   ]
  },
  {
   "cell_type": "code",
   "execution_count": 193,
   "id": "7dffd0cc-5a6f-4338-8a37-e9cb40ef0a3e",
   "metadata": {},
   "outputs": [
    {
     "name": "stderr",
     "output_type": "stream",
     "text": [
      "100%|███████████████████████████████████████████████████████████████████████████| 9654/9654 [00:00<00:00, 62255.54it/s]\n",
      "100%|███████████████████████████████████████████████████████████████████████████| 2383/2383 [00:00<00:00, 77779.89it/s]\n",
      "100%|███████████████████████████████████████████████████████████████████████████| 4008/4008 [00:00<00:00, 62706.63it/s]\n"
     ]
    }
   ],
   "source": [
    "for name,data in zip(['train','dev','test'],[klue_mrc_train, klue_mrc_test, klue_mrc_dev]):\n",
    "    dpr = []\n",
    "    for i in data:\n",
    "        if i['label']==1:\n",
    "            dpr.append(dict(question=i['question'], answer = i['answer'], positive_ctxs=[dict(title=i['title'], context=' '.join(i['context'].split()))]))            \n",
    "    path = '../../data/dpr/klue'\n",
    "    os.makedirs(path, exist_ok=True)\n",
    "    save_jsonl(path,dpr,name)"
   ]
  },
  {
   "cell_type": "code",
   "execution_count": 208,
   "id": "b3658ac0-3449-4862-9e44-c91b6d68e15a",
   "metadata": {},
   "outputs": [
    {
     "name": "stderr",
     "output_type": "stream",
     "text": [
      "make_context: 100%|██████████████████████████████████████████████████████████████████████| 1/1 [00:00<00:00,  2.92it/s]\n",
      "attach: 100%|█████████████████████████████████████████████████████████████████| 14043/14043 [00:00<00:00, 47670.18it/s]\n"
     ]
    },
    {
     "name": "stdout",
     "output_type": "stream",
     "text": [
      "positive 개수 : 9654, negative 개수 : 9654, is_impossible neagtive 개수 : 4389, total negative 개수 : 14043\n"
     ]
    },
    {
     "name": "stderr",
     "output_type": "stream",
     "text": [
      "make_context: 100%|██████████████████████████████████████████████████████████████████████| 1/1 [00:00<00:00, 13.50it/s]\n",
      "attach: 100%|███████████████████████████████████████████████████████████████████| 3511/3511 [00:00<00:00, 41292.78it/s]\n"
     ]
    },
    {
     "name": "stdout",
     "output_type": "stream",
     "text": [
      "positive 개수 : 2383, negative 개수 : 2383, is_impossible neagtive 개수 : 1128, total negative 개수 : 3511\n"
     ]
    },
    {
     "name": "stderr",
     "output_type": "stream",
     "text": [
      "make_context: 100%|██████████████████████████████████████████████████████████████████████| 1/1 [00:00<00:00,  6.85it/s]\n",
      "attach: 100%|███████████████████████████████████████████████████████████████████| 5841/5841 [00:00<00:00, 54961.76it/s]\n"
     ]
    },
    {
     "name": "stdout",
     "output_type": "stream",
     "text": [
      "positive 개수 : 4008, negative 개수 : 4008, is_impossible neagtive 개수 : 1833, total negative 개수 : 5841\n"
     ]
    }
   ],
   "source": [
    "train_data = annotation([klue_mrc_train])\n",
    "dev_data = annotation([klue_mrc_test])\n",
    "test_data = annotation([klue_mrc_dev])"
   ]
  },
  {
   "cell_type": "code",
   "execution_count": 209,
   "id": "4d636658-1a3d-4823-a3c6-ba96e4b1aa84",
   "metadata": {},
   "outputs": [
    {
     "name": "stderr",
     "output_type": "stream",
     "text": [
      "100%|█████████████████████████████████████████████████████████████████████████| 23697/23697 [00:00<00:00, 50089.97it/s]\n",
      "100%|███████████████████████████████████████████████████████████████████████████| 5894/5894 [00:00<00:00, 41771.67it/s]\n",
      "100%|███████████████████████████████████████████████████████████████████████████| 9849/9849 [00:00<00:00, 39121.00it/s]\n"
     ]
    }
   ],
   "source": [
    "save_jsonl('../../data/rerank/klue',train_data,'train')\n",
    "save_jsonl('../../data/rerank/klue',dev_data,'dev')\n",
    "save_jsonl('../../data/rerank/klue',test_data,'test')"
   ]
  }
 ],
 "metadata": {
  "kernelspec": {
   "display_name": "Python 3 (ipykernel)",
   "language": "python",
   "name": "python3"
  },
  "language_info": {
   "codemirror_mode": {
    "name": "ipython",
    "version": 3
   },
   "file_extension": ".py",
   "mimetype": "text/x-python",
   "name": "python",
   "nbconvert_exporter": "python",
   "pygments_lexer": "ipython3",
   "version": "3.9.7"
  }
 },
 "nbformat": 4,
 "nbformat_minor": 5
}
