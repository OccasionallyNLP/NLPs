{
 "cells": [
  {
   "cell_type": "code",
   "execution_count": 12,
   "id": "6cea949f-4342-4aa9-8d88-1afb3b876ec9",
   "metadata": {},
   "outputs": [],
   "source": [
    "import pandas as pd\n",
    "import os\n",
    "import json\n",
    "import pickle\n",
    "from tqdm.auto import tqdm\n",
    "import numpy as np\n",
    "from typing import List\n",
    "import re\n",
    "from sklearn.model_selection import train_test_split\n",
    "from utils.utils import *\n",
    "import random\n",
    "from collections import Counter, defaultdict\n",
    "\n",
    "seed_everything(42)"
   ]
  },
  {
   "cell_type": "markdown",
   "id": "2900d883-76ff-4a50-85a3-b62d8531f00a",
   "metadata": {},
   "source": [
    "# KorQuAD"
   ]
  },
  {
   "cell_type": "code",
   "execution_count": 13,
   "id": "a575c51c-b284-49b2-a619-2cee56a08a3a",
   "metadata": {},
   "outputs": [],
   "source": [
    "def make_instance(data:List):\n",
    "    output = []\n",
    "    for article in tqdm(data):\n",
    "        if article.get('title') is not None:\n",
    "            title = article['title']\n",
    "        elif article.get('doc_title') is not None:\n",
    "            title = article['doc_title']\n",
    "        else:\n",
    "            raise Exception('title error')\n",
    "        title = re.sub('_',' ',title)\n",
    "        for paragraph in article['paragraphs']:\n",
    "            context = paragraph['context']\n",
    "            #contexts.append(dict(title=title, context=context))\n",
    "            for qas in paragraph['qas']:\n",
    "                question = qas['question']\n",
    "                if type(qas['answers'])==list:\n",
    "                    answer = [a['text'] for a in qas['answers']]\n",
    "                else:\n",
    "                    answer = qas['answers']['text']\n",
    "                if qas.get('is_impossible') is not None:\n",
    "                    if qas['is_impossible']==True:\n",
    "                        output.append(dict(title=title, context=context, question=question, answer=answer, label=0))\n",
    "                    else:\n",
    "                        output.append(dict(title=title, context=context, question=question, answer=answer, label=1))\n",
    "                else:\n",
    "                    output.append(dict(title=title, context=context, question=question, answer=answer, label=1))\n",
    "    return output"
   ]
  },
  {
   "cell_type": "code",
   "execution_count": 14,
   "id": "3d75cd51-d9aa-4a8c-91d9-e7833afa1f33",
   "metadata": {},
   "outputs": [],
   "source": [
    "def no_answer_make_instance(data:List):\n",
    "    output = []\n",
    "    for article in tqdm(data):\n",
    "        if article.get('title') is not None:\n",
    "            title = article['title']\n",
    "        elif article.get('doc_title') is not None:\n",
    "            title = article['doc_title']\n",
    "        else:\n",
    "            raise Exception('title error')\n",
    "        title = re.sub('_',' ',title)\n",
    "        for paragraph in article['paragraphs']:\n",
    "            context = paragraph['context']\n",
    "            for qas in paragraph['qas']:\n",
    "                question = qas['question']\n",
    "                answer = qas['answers'] if qas.get('answers') is not None else None\n",
    "                output.append(dict(title=title, context=context, question=question, answer=answer, label=0))\n",
    "    return output"
   ]
  },
  {
   "cell_type": "code",
   "execution_count": 15,
   "id": "f5c1b6b7-8211-4be6-b7ea-6ad86cd472a5",
   "metadata": {},
   "outputs": [],
   "source": [
    "def annotation(data_list): # train, val, test 따로 따로 진행 요망.\n",
    "    output = []\n",
    "    total_contexts = set()\n",
    "    c = 0\n",
    "    label_1 = 0\n",
    "    label_0 = 0\n",
    "    label_0_0 = 0\n",
    "    for i in tqdm(data_list,desc='make_context'):\n",
    "        for j in i:\n",
    "            c+=1\n",
    "            total_contexts.add(j['title']+' '.join(j['context'].split())) # 전처리\n",
    "    total_contexts = list(total_contexts)\n",
    "    for i in data_list:\n",
    "        for j in tqdm(i, desc='attach'):\n",
    "            q = j['question']\n",
    "            a = j['answer']\n",
    "            if j['label']==1:\n",
    "                pos = j['title']+' '+' '.join(j['context'].split())\n",
    "                output.append(dict(question=q, answer=a, context=pos, label=1))\n",
    "                label_1+=1\n",
    "                while True:\n",
    "                    tmp = random.choice(total_contexts)\n",
    "                    # list가 아니면 None임 - is impossible임.\n",
    "                    if type(j['answer'])==list:\n",
    "                        for answer in j['answer']:\n",
    "                            if answer in tmp:\n",
    "                                break\n",
    "                        else:\n",
    "                            label_0+=1\n",
    "                            output.append(dict(question=q, answer=a, context=tmp, label=0))\n",
    "                            break \n",
    "                    else:\n",
    "                        if a not in tmp:\n",
    "                            label_0+=1\n",
    "                            output.append(dict(question=q, answer=a, context=tmp, label=0))\n",
    "                            break                        \n",
    "            else:\n",
    "                label_0_0 +=1\n",
    "                neg = j['title']+' '+j['context']\n",
    "                output.append(dict(question=q, answer=a, context=neg, label=2))\n",
    "    print(f'positive 개수 : {label_1}, negative 개수 : {label_0}, is_impossible neagtive 개수 : {label_0_0}, total negative 개수 : {label_0+label_0_0}')\n",
    "    \n",
    "    return output"
   ]
  },
  {
   "cell_type": "code",
   "execution_count": 16,
   "id": "76b07488-d95e-4fca-8723-d6b4ad875a81",
   "metadata": {},
   "outputs": [],
   "source": [
    "korquad_train = json.load(open('../../data/MRC_data/KorQuAD 1.0/KorQuAD_v1.0_train.json','r'))\n",
    "korquad_dev = json.load(open('../../data/MRC_data/KorQuAD 1.0/KorQuAD_v1.0_dev.json','r'))"
   ]
  },
  {
   "cell_type": "code",
   "execution_count": 17,
   "id": "9854f8c2-54de-4de1-ae61-99b73959e043",
   "metadata": {},
   "outputs": [
    {
     "name": "stderr",
     "output_type": "stream",
     "text": [
      "100%|███████████████████████████████████████████████████████████████████████████| 1420/1420 [00:00<00:00, 23329.71it/s]\n",
      "100%|██████████████████████████████████████████████████████████████████████████████| 140/140 [00:00<00:00, 7004.85it/s]\n"
     ]
    }
   ],
   "source": [
    "korquad_train = make_instance(korquad_train['data'])\n",
    "korquad_dev = make_instance(korquad_dev['data'])"
   ]
  },
  {
   "cell_type": "code",
   "execution_count": 18,
   "id": "6580d0a4-e27d-43b2-bfbc-782553cb7237",
   "metadata": {},
   "outputs": [],
   "source": [
    "from collections import Counter\n",
    "def print_statistics(data, name='data'):\n",
    "    print(name)\n",
    "    labels = []\n",
    "    for i in tqdm(data):\n",
    "        labels.append(i['label'])\n",
    "    return Counter(labels)"
   ]
  },
  {
   "cell_type": "code",
   "execution_count": 19,
   "id": "3969d059-f43c-43a3-809e-d3e12f970313",
   "metadata": {},
   "outputs": [
    {
     "name": "stdout",
     "output_type": "stream",
     "text": [
      "korquad\n"
     ]
    },
    {
     "name": "stderr",
     "output_type": "stream",
     "text": [
      "100%|██████████████████████████████████████████████████████████████████████| 66181/66181 [00:00<00:00, 12321698.91it/s]\n"
     ]
    },
    {
     "data": {
      "text/plain": [
       "Counter({1: 66181})"
      ]
     },
     "execution_count": 19,
     "metadata": {},
     "output_type": "execute_result"
    }
   ],
   "source": [
    "print_statistics(korquad_train+korquad_dev, 'korquad')"
   ]
  },
  {
   "cell_type": "code",
   "execution_count": 20,
   "id": "68a0250d-ad53-4b03-81e3-5972fcb35b32",
   "metadata": {},
   "outputs": [
    {
     "name": "stdout",
     "output_type": "stream",
     "text": [
      "60407\n"
     ]
    }
   ],
   "source": [
    "print(len(korquad_train))"
   ]
  },
  {
   "cell_type": "code",
   "execution_count": 21,
   "id": "c7a9da06-0c4a-49a9-bb1e-9f3ac98d205b",
   "metadata": {},
   "outputs": [
    {
     "name": "stdout",
     "output_type": "stream",
     "text": [
      "5774\n"
     ]
    }
   ],
   "source": [
    "print(len(korquad_dev))"
   ]
  },
  {
   "cell_type": "markdown",
   "id": "ce75e15c-c0ca-4dcc-bc0b-79a2b7a07081",
   "metadata": {},
   "source": [
    "# 기계독해 - dev 존재 x"
   ]
  },
  {
   "cell_type": "code",
   "execution_count": 22,
   "id": "ac9d2cbb-1019-4724-b099-9d2f9f6eb82b",
   "metadata": {},
   "outputs": [],
   "source": [
    "mrc_train_1 = json.load(open('../../data/MRC_data/기계독해/기계독해분야/01.Normal/ko_nia_normal_squad_all.json','r',encoding='utf-8'))\n",
    "mrc_train_2 = json.load(open('../../data/MRC_data/기계독해/기계독해분야/02.NoAnswer/ko_nia_noanswer_squad_all.json','r',encoding='utf-8')) # no answer\n",
    "mrc_train_3 = json.load(open('../../data/MRC_data/기계독해/기계독해분야/03.Clue_/ko_nia_clue0529_squad_all.json','r',encoding='utf-8'))"
   ]
  },
  {
   "cell_type": "code",
   "execution_count": 23,
   "id": "979cbb65-547b-494e-ba5e-e90a639536fa",
   "metadata": {},
   "outputs": [
    {
     "name": "stderr",
     "output_type": "stream",
     "text": [
      "100%|█████████████████████████████████████████████████████████████████████████| 47314/47314 [00:00<00:00, 50737.58it/s]\n",
      "100%|████████████████████████████████████████████████████████████████████████| 20030/20030 [00:00<00:00, 329391.30it/s]\n",
      "100%|████████████████████████████████████████████████████████████████████████| 34500/34500 [00:00<00:00, 238213.08it/s]\n"
     ]
    }
   ],
   "source": [
    "mrc_train_1 = make_instance(mrc_train_1['data'])\n",
    "mrc_train_2 = no_answer_make_instance(mrc_train_2['data'])\n",
    "mrc_train_3 = make_instance(mrc_train_3['data'])"
   ]
  },
  {
   "cell_type": "code",
   "execution_count": 24,
   "id": "69a31389-2c64-4781-a236-0e24b52867b9",
   "metadata": {},
   "outputs": [
    {
     "name": "stdout",
     "output_type": "stream",
     "text": [
      "mrc\n"
     ]
    },
    {
     "name": "stderr",
     "output_type": "stream",
     "text": [
      "100%|█████████████████████████████████████████████████████████████████████| 440332/440332 [00:00<00:00, 3628560.06it/s]\n"
     ]
    },
    {
     "data": {
      "text/plain": [
       "Counter({1: 340088, 0: 100244})"
      ]
     },
     "execution_count": 24,
     "metadata": {},
     "output_type": "execute_result"
    }
   ],
   "source": [
    "print_statistics(mrc_train_1+mrc_train_2+mrc_train_3, 'mrc')"
   ]
  },
  {
   "cell_type": "code",
   "execution_count": 25,
   "id": "b3db88ec-6fc1-424d-bf3f-c4ccd72d848c",
   "metadata": {},
   "outputs": [],
   "source": [
    "mrc = mrc_train_1+mrc_train_2+mrc_train_3"
   ]
  },
  {
   "cell_type": "markdown",
   "id": "562db381-d866-4205-bd62-048f0171315b",
   "metadata": {},
   "source": [
    "# 도서자료 기계독해 - dev 존재"
   ]
  },
  {
   "cell_type": "code",
   "execution_count": 26,
   "id": "89358a9f-0b32-44f1-8515-8c7c4ccf897e",
   "metadata": {},
   "outputs": [],
   "source": [
    "book_mrc_train = json.load(open('../../data/MRC_data/도서자료 기계독해/Training/도서_train/도서_220419_add/도서_220419_add.json','r',encoding='utf-8'))\n",
    "book_mrc_dev = json.load(open('../../data/MRC_data/도서자료 기계독해/Validation/도서_valid/도서.json','r',encoding='utf-8'))"
   ]
  },
  {
   "cell_type": "code",
   "execution_count": 27,
   "id": "e21f1d6e-f1e2-472f-8d6a-38cbe15021d5",
   "metadata": {},
   "outputs": [
    {
     "name": "stderr",
     "output_type": "stream",
     "text": [
      "100%|████████████████████████████████████████████████████████████████████████████| 5368/5368 [00:02<00:00, 2011.73it/s]\n",
      "100%|███████████████████████████████████████████████████████████████████████████| 1994/1994 [00:00<00:00, 40540.00it/s]\n"
     ]
    }
   ],
   "source": [
    "book_mrc_train = make_instance(book_mrc_train['data'])\n",
    "book_mrc_dev = make_instance(book_mrc_dev['data'])"
   ]
  },
  {
   "cell_type": "code",
   "execution_count": 28,
   "id": "ad0b7773-2910-4acc-941f-837e5a12ce9f",
   "metadata": {},
   "outputs": [],
   "source": [
    "book = book_mrc_train+book_mrc_dev"
   ]
  },
  {
   "cell_type": "code",
   "execution_count": 29,
   "id": "01aa4d14-0c48-496d-973f-a13eac049111",
   "metadata": {},
   "outputs": [
    {
     "name": "stdout",
     "output_type": "stream",
     "text": [
      "book\n"
     ]
    },
    {
     "name": "stderr",
     "output_type": "stream",
     "text": [
      "100%|█████████████████████████████████████████████████████████████████████| 950000/950000 [00:00<00:00, 4716366.00it/s]\n"
     ]
    },
    {
     "data": {
      "text/plain": [
       "Counter({1: 665000, 0: 285000})"
      ]
     },
     "execution_count": 29,
     "metadata": {},
     "output_type": "execute_result"
    }
   ],
   "source": [
    "print_statistics(book_mrc_train+book_mrc_dev, 'book')"
   ]
  },
  {
   "cell_type": "markdown",
   "id": "398ee1fa-38a9-4b58-8472-97db16da8a6f",
   "metadata": {},
   "source": [
    "# 행정문서 기계독해"
   ]
  },
  {
   "cell_type": "code",
   "execution_count": 30,
   "id": "1c0d621b-9257-4f35-b914-d947f89bad56",
   "metadata": {},
   "outputs": [],
   "source": [
    "ad_train_1 = json.load(open('../../data/MRC_data/행정 문서 대상 기계독해/01.데이터/1.Training/라벨링데이터/TL_multiple_choice/TL_multiple_choice.json','r',encoding='utf-8'))\n",
    "ad_train_2 = json.load(open('../../data/MRC_data/행정 문서 대상 기계독해/01.데이터/1.Training/라벨링데이터/TL_span_extraction/TL_span_extraction.json','r',encoding='utf-8'))\n",
    "ad_train_3 = json.load(open('../../data/MRC_data/행정 문서 대상 기계독해/01.데이터/1.Training/라벨링데이터/TL_span_extraction_how/TL_span_extraction_how.json','r',encoding='utf-8'))\n",
    "ad_train_4 = json.load(open('../../data/MRC_data/행정 문서 대상 기계독해/01.데이터/1.Training/라벨링데이터/TL_unanswerable/TL_unanswerable.json','r',encoding='utf-8')) # NO\n",
    "ad_train_5 = json.load(open('../../data/MRC_data/행정 문서 대상 기계독해/01.데이터/1.Training/라벨링데이터/TL_text_entailment/TL_text_entailment.json','r',encoding='utf-8'))\n",
    "\n",
    "ad_dev_1 = json.load(open('../../data/MRC_data/행정 문서 대상 기계독해/01.데이터/2.Validation/라벨링데이터/VL_multiple_choice/VL_multiple_choice.json','r',encoding='utf-8'))\n",
    "ad_dev_2 = json.load(open('../../data/MRC_data/행정 문서 대상 기계독해/01.데이터/2.Validation/라벨링데이터/VL_span_extraction/VL_span_extraction.json','r',encoding='utf-8'))\n",
    "ad_dev_3 = json.load(open('../../data/MRC_data/행정 문서 대상 기계독해/01.데이터/2.Validation/라벨링데이터/VL_span_extraction_how/VL_span_extraction_how.json','r',encoding='utf-8'))\n",
    "# NO\n",
    "ad_dev_4 = json.load(open('../../data/MRC_data/행정 문서 대상 기계독해/01.데이터/2.Validation/라벨링데이터/VL_unanswerable/VL_unanswerable.json','r',encoding='utf-8'))\n",
    "ad_dev_5 = json.load(open('../../data/MRC_data/행정 문서 대상 기계독해/01.데이터/2.Validation/라벨링데이터/VL_text_entailment/VL_text_entailment.json','r',encoding='utf-8'))"
   ]
  },
  {
   "cell_type": "code",
   "execution_count": 31,
   "id": "b6125151-8f2a-4fc6-8c7b-023b85f27b58",
   "metadata": {
    "tags": []
   },
   "outputs": [
    {
     "name": "stderr",
     "output_type": "stream",
     "text": [
      "100%|████████████████████████████████████████████████████████████████████████| 15085/15085 [00:00<00:00, 293293.70it/s]\n",
      "100%|████████████████████████████████████████████████████████████████████████| 63932/63932 [00:00<00:00, 459059.97it/s]\n",
      "100%|████████████████████████████████████████████████████████████████████████| 29074/29074 [00:00<00:00, 511860.76it/s]\n",
      "100%|██████████████████████████████████████████████████████████████████████████| 9828/9828 [00:00<00:00, 398792.83it/s]\n",
      "100%|████████████████████████████████████████████████████████████████████████| 16872/16872 [00:00<00:00, 473137.95it/s]\n",
      "100%|██████████████████████████████████████████████████████████████████████████████████████| 2813/2813 [00:00<?, ?it/s]\n",
      "100%|████████████████████████████████████████████████████████████████████████| 11985/11985 [00:00<00:00, 346743.09it/s]\n",
      "100%|█████████████████████████████████████████████████████████████████████████| 5458/5458 [00:00<00:00, 2053876.84it/s]\n",
      "100%|██████████████████████████████████████████████████████████████████████████| 1843/1843 [00:00<00:00, 555762.62it/s]\n",
      "100%|██████████████████████████████████████████████████████████████████████████| 3154/3154 [00:00<00:00, 616384.07it/s]\n"
     ]
    }
   ],
   "source": [
    "ad_train_1 =make_instance(ad_train_1['data'])\n",
    "ad_train_2 =make_instance(ad_train_2['data'])\n",
    "ad_train_3 =make_instance(ad_train_3['data'])\n",
    "ad_train_4 =no_answer_make_instance(ad_train_4['data'])\n",
    "ad_train_5 =make_instance(ad_train_5['data'])\n",
    "\n",
    "ad_dev_1 = make_instance(ad_dev_1['data'])\n",
    "ad_dev_2 = make_instance(ad_dev_2['data'])\n",
    "ad_dev_3 = make_instance(ad_dev_3['data'])\n",
    "ad_dev_4 = no_answer_make_instance(ad_dev_4['data'])\n",
    "ad_dev_5 = make_instance(ad_dev_5['data'])"
   ]
  },
  {
   "cell_type": "code",
   "execution_count": 32,
   "id": "63edb250-6230-4eba-9ac3-2282cd5c8d13",
   "metadata": {},
   "outputs": [],
   "source": [
    "ad = ad_train_1+ad_train_2+ad_train_3+ad_train_4+ad_train_5+ad_dev_1+ad_dev_2+ad_dev_3+ad_dev_4+ad_dev_5"
   ]
  },
  {
   "cell_type": "code",
   "execution_count": 33,
   "id": "dba56aa8-0ade-4a00-868d-ef1c5c84a953",
   "metadata": {},
   "outputs": [
    {
     "name": "stdout",
     "output_type": "stream",
     "text": [
      "book\n"
     ]
    },
    {
     "name": "stderr",
     "output_type": "stream",
     "text": [
      "100%|█████████████████████████████████████████████████████████████████████| 252689/252689 [00:00<00:00, 3910526.97it/s]\n"
     ]
    },
    {
     "data": {
      "text/plain": [
       "Counter({1: 234239, 0: 18450})"
      ]
     },
     "execution_count": 33,
     "metadata": {},
     "output_type": "execute_result"
    }
   ],
   "source": [
    "print_statistics(ad_train_1+ad_train_2+ad_train_3+ad_train_4+ad_train_5+ad_dev_1+ad_dev_2+ad_dev_3+ad_dev_4+ad_dev_5, 'book')"
   ]
  },
  {
   "cell_type": "markdown",
   "id": "f4067c79-dd93-4ed2-b88a-33dc611cfd72",
   "metadata": {},
   "source": [
    "# 뉴스 기사 기계독해"
   ]
  },
  {
   "cell_type": "code",
   "execution_count": 34,
   "id": "72ea8d4e-51a3-4e80-81ad-2c073055bfa5",
   "metadata": {},
   "outputs": [],
   "source": [
    "news_mrc_train_1 = json.load(open('../../data/MRC_data/뉴스 기사 기계독해/01.데이터/1.Training/라벨링데이터/TL_text_entailment/TL_text_entailment.json','r',encoding='utf-8'))\n",
    "news_mrc_train_2 = json.load(open('../../data/MRC_data/뉴스 기사 기계독해/01.데이터/1.Training/라벨링데이터/TL_span_extraction/TL_span_extraction.json','r',encoding='utf-8'))\n",
    "news_mrc_train_3 = json.load(open('../../data/MRC_data/뉴스 기사 기계독해/01.데이터/1.Training/라벨링데이터_221115_add/TL_span_inference/TL_span_inference.json','r',encoding='utf-8'))\n",
    "news_mrc_train_4 = json.load(open('../../data//MRC_data/뉴스 기사 기계독해/01.데이터/1.Training/라벨링데이터/TL_unanswerable/TL_unanswerable.json','r',encoding='utf-8'))\n",
    "news_mrc_dev_1 = json.load(open('../../data/MRC_data/뉴스 기사 기계독해/01.데이터/2.Validation/라벨링데이터/VL_span_extraction/VL_span_extraction.json','r',encoding='utf-8'))\n",
    "news_mrc_dev_2 = json.load(open('../../data/MRC_data/뉴스 기사 기계독해/01.데이터/2.Validation/라벨링데이터/VL_span_inference/VL_span_inference.json','r',encoding='utf-8'))\n",
    "news_mrc_dev_3 = json.load(open('../../data/MRC_data/뉴스 기사 기계독해/01.데이터/2.Validation/라벨링데이터/VL_text_entailment/VL_text_entailment.json','r',encoding='utf-8'))\n",
    "news_mrc_dev_4 = json.load(open('../../data//MRC_data/뉴스 기사 기계독해/01.데이터/2.Validation/라벨링데이터/VL_unanswerable/VL_unanswerable.json','r',encoding='utf-8'))"
   ]
  },
  {
   "cell_type": "code",
   "execution_count": 35,
   "id": "7b51a420-467d-4d11-af08-345618e4b230",
   "metadata": {},
   "outputs": [
    {
     "name": "stderr",
     "output_type": "stream",
     "text": [
      "100%|████████████████████████████████████████████████████████████████████████| 24009/24009 [00:00<00:00, 327413.86it/s]\n",
      "100%|██████████████████████████████████████████████████████████████████████| 111967/111967 [00:00<00:00, 387147.00it/s]\n",
      "100%|████████████████████████████████████████████████████████████████████████| 15992/15992 [00:00<00:00, 363177.81it/s]\n",
      "100%|██████████████████████████████████████████████████████████████████████████| 8000/8000 [00:00<00:00, 344897.95it/s]\n",
      "100%|████████████████████████████████████████████████████████████████████████| 13997/13997 [00:00<00:00, 300086.25it/s]\n",
      "100%|██████████████████████████████████████████████████████████████████████████████████████| 1999/1999 [00:00<?, ?it/s]\n",
      "100%|██████████████████████████████████████████████████████████████████████████| 3001/3001 [00:00<00:00, 186084.18it/s]\n",
      "100%|██████████████████████████████████████████████████████████████████████████| 1000/1000 [00:00<00:00, 500036.24it/s]\n"
     ]
    }
   ],
   "source": [
    "news_mrc_train_1 = make_instance(news_mrc_train_1['data'])\n",
    "news_mrc_train_2 = make_instance(news_mrc_train_2['data'])\n",
    "news_mrc_train_3 = make_instance(news_mrc_train_3['data'])\n",
    "news_mrc_train_4 = no_answer_make_instance(news_mrc_train_4['data'])\n",
    "news_mrc_dev_1 = make_instance(news_mrc_dev_1['data'])\n",
    "news_mrc_dev_2 = make_instance(news_mrc_dev_2['data'])\n",
    "news_mrc_dev_3 = make_instance(news_mrc_dev_3['data'])\n",
    "news_mrc_dev_4 = no_answer_make_instance(news_mrc_dev_4['data'])"
   ]
  },
  {
   "cell_type": "code",
   "execution_count": 36,
   "id": "ea6beb22-d9f0-47db-bf91-d259cf047aba",
   "metadata": {},
   "outputs": [],
   "source": [
    "news = news_mrc_train_1+news_mrc_train_2+news_mrc_train_3+news_mrc_train_4+news_mrc_dev_1+news_mrc_dev_2+news_mrc_dev_3+news_mrc_dev_4"
   ]
  },
  {
   "cell_type": "code",
   "execution_count": 37,
   "id": "b9739762-873a-4bee-88f3-8872e31de224",
   "metadata": {},
   "outputs": [
    {
     "name": "stdout",
     "output_type": "stream",
     "text": [
      "book\n"
     ]
    },
    {
     "name": "stderr",
     "output_type": "stream",
     "text": [
      "100%|█████████████████████████████████████████████████████████████████████| 359934/359934 [00:00<00:00, 3662502.68it/s]\n"
     ]
    },
    {
     "data": {
      "text/plain": [
       "Counter({1: 341934, 0: 18000})"
      ]
     },
     "execution_count": 37,
     "metadata": {},
     "output_type": "execute_result"
    }
   ],
   "source": [
    "print_statistics(news_mrc_train_1+news_mrc_train_2+news_mrc_train_3+news_mrc_train_4+news_mrc_dev_1+news_mrc_dev_2+news_mrc_dev_3+news_mrc_dev_4, 'book')"
   ]
  },
  {
   "cell_type": "markdown",
   "id": "d943e0be-ef56-44f2-8787-cf7bb199fffc",
   "metadata": {
    "tags": []
   },
   "source": [
    "# KLUE MRC"
   ]
  },
  {
   "cell_type": "code",
   "execution_count": 38,
   "id": "d1ef6dba-80bb-4d5f-8ad6-0a4420c72efc",
   "metadata": {},
   "outputs": [],
   "source": [
    "def klue_make_instance(data:List):\n",
    "    output = []\n",
    "    for article in tqdm(data):\n",
    "        title = article['title']\n",
    "        context = article['context']\n",
    "        question = article['question']\n",
    "        answer = article['answers']['text']\n",
    "        if article['is_impossible']==False:\n",
    "            output.append(dict(title=title, context=context, question=question, answer=answer, label=1))\n",
    "        else:\n",
    "            output.append(dict(title=title, context=context, question=question, answer=answer, label=0))\n",
    "    return output"
   ]
  },
  {
   "cell_type": "code",
   "execution_count": 39,
   "id": "5c4f7d92-ec67-4a5b-a366-5ee6d735ac71",
   "metadata": {},
   "outputs": [
    {
     "name": "stderr",
     "output_type": "stream",
     "text": [
      "Reusing dataset klue (C:\\Users\\User\\.cache\\huggingface\\datasets\\klue\\mrc\\1.0.0\\e0fc3bc3de3eb03be2c92d72fd04a60ecc71903f821619cb28ca0e1e29e4233e)\n"
     ]
    },
    {
     "data": {
      "application/vnd.jupyter.widget-view+json": {
       "model_id": "8f7fd28bfc034b4894e175a6aacd5191",
       "version_major": 2,
       "version_minor": 0
      },
      "text/plain": [
       "  0%|          | 0/2 [00:00<?, ?it/s]"
      ]
     },
     "metadata": {},
     "output_type": "display_data"
    }
   ],
   "source": [
    "from datasets import load_dataset\n",
    "dataset = load_dataset('klue', 'mrc')\t# klue dataset 중에 sts를 가져옴"
   ]
  },
  {
   "cell_type": "code",
   "execution_count": 40,
   "id": "4aa3b86a-bd85-412d-a63c-c4a563a8e7ba",
   "metadata": {},
   "outputs": [
    {
     "name": "stderr",
     "output_type": "stream",
     "text": [
      "100%|██████████████████████████████████████████████████████████████████████████| 17554/17554 [00:01<00:00, 9914.22it/s]\n",
      "100%|████████████████████████████████████████████████████████████████████████████| 5841/5841 [00:00<00:00, 9431.31it/s]\n"
     ]
    }
   ],
   "source": [
    "klue_mrc_train = klue_make_instance(dataset['train'])\n",
    "klue_mrc_dev = klue_make_instance(dataset['validation'])"
   ]
  },
  {
   "cell_type": "code",
   "execution_count": 41,
   "id": "5de3a297-57ce-4782-9069-b6f8caf1fa17",
   "metadata": {},
   "outputs": [
    {
     "name": "stdout",
     "output_type": "stream",
     "text": [
      "book\n"
     ]
    },
    {
     "name": "stderr",
     "output_type": "stream",
     "text": [
      "100%|███████████████████████████████████████████████████████████████████████| 23395/23395 [00:00<00:00, 4237777.68it/s]\n"
     ]
    },
    {
     "data": {
      "text/plain": [
       "Counter({1: 16045, 0: 7350})"
      ]
     },
     "execution_count": 41,
     "metadata": {},
     "output_type": "execute_result"
    }
   ],
   "source": [
    "print_statistics(klue_mrc_train+klue_mrc_dev, 'book')"
   ]
  },
  {
   "cell_type": "code",
   "execution_count": 42,
   "id": "7805871e-2437-4745-8182-aa199895066c",
   "metadata": {},
   "outputs": [],
   "source": [
    "klue = klue_mrc_train+klue_mrc_dev"
   ]
  },
  {
   "cell_type": "markdown",
   "id": "b01da3d0-fe85-4b66-ac6e-31bf05c38c9f",
   "metadata": {},
   "source": [
    "# total"
   ]
  },
  {
   "cell_type": "code",
   "execution_count": 43,
   "id": "fb99dd00-e1a4-43d9-86e5-1b7bcc0c5c84",
   "metadata": {},
   "outputs": [],
   "source": [
    "total = klue + mrc + ad + news + book"
   ]
  },
  {
   "cell_type": "code",
   "execution_count": 44,
   "id": "af4d136f-9dd4-4639-afb8-f23f5683e4cc",
   "metadata": {},
   "outputs": [],
   "source": [
    "import hashlib\n",
    "def compute_hash(text):\n",
    "    return hashlib.md5(text.encode()).hexdigest()"
   ]
  },
  {
   "cell_type": "code",
   "execution_count": 45,
   "id": "29f5ac7a-2d93-4405-ba1e-706dad2663ef",
   "metadata": {},
   "outputs": [
    {
     "name": "stderr",
     "output_type": "stream",
     "text": [
      "100%|████████████████████████████████████████████████████████████████████| 2026350/2026350 [00:13<00:00, 150420.14it/s]\n"
     ]
    }
   ],
   "source": [
    "total_docs = {}\n",
    "for i in tqdm(total):\n",
    "    title = i['title']\n",
    "    context = i['context']\n",
    "    id = compute_hash(title+' '+context)\n",
    "    total_docs[id] = dict(title=title, context=context, pos=[], neg=[])"
   ]
  },
  {
   "cell_type": "code",
   "execution_count": 46,
   "id": "022d6165-3b38-4951-9634-5683792ff3ae",
   "metadata": {},
   "outputs": [
    {
     "name": "stderr",
     "output_type": "stream",
     "text": [
      "100%|████████████████████████████████████████████████████████████████████| 2026350/2026350 [00:10<00:00, 185529.50it/s]\n"
     ]
    }
   ],
   "source": [
    "for i in tqdm(total):\n",
    "    id = compute_hash(i['title']+' '+i['context'])\n",
    "    if i['label']==1:\n",
    "        total_docs[id]['pos'].append(i['question'])\n",
    "    elif i['label']==0:\n",
    "        total_docs[id]['neg'].append(i['question'])"
   ]
  },
  {
   "cell_type": "code",
   "execution_count": 47,
   "id": "1f3b5b5e-f3d2-4042-a65b-1ffa679fb69e",
   "metadata": {},
   "outputs": [],
   "source": [
    "chk = 0\n",
    "for i in total_docs.values():\n",
    "    if len(i['pos'])>1 and len(i['neg'])>1:\n",
    "        chk+=1"
   ]
  },
  {
   "cell_type": "code",
   "execution_count": 48,
   "id": "0e5b0b21-6075-4940-917a-48c3e95946f2",
   "metadata": {},
   "outputs": [],
   "source": [
    "filtering_data = []\n",
    "for i in total_docs.values():\n",
    "    if len(i['pos'])>1 and len(i['neg'])>1:\n",
    "        filtering_data.append(i)"
   ]
  },
  {
   "cell_type": "markdown",
   "id": "ff5eba92-75e8-4d78-9945-981ba50ae869",
   "metadata": {},
   "source": [
    "# save"
   ]
  },
  {
   "cell_type": "code",
   "execution_count": 49,
   "id": "33ae635e-1200-4bc8-8bf8-838164a2183c",
   "metadata": {},
   "outputs": [
    {
     "data": {
      "text/plain": [
       "56072"
      ]
     },
     "execution_count": 49,
     "metadata": {},
     "output_type": "execute_result"
    }
   ],
   "source": [
    "len(filtering_data)"
   ]
  },
  {
   "cell_type": "code",
   "execution_count": 50,
   "id": "77bb5185-cd61-4eb5-89d6-39a8296f5731",
   "metadata": {},
   "outputs": [],
   "source": [
    "train,dev = train_test_split(filtering_data, test_size = 2000, shuffle = True, random_state = 42)\n",
    "train,test = train_test_split(train, test_size = 2000, shuffle = True, random_state = 42)"
   ]
  },
  {
   "cell_type": "code",
   "execution_count": 51,
   "id": "75fd7bff-dde0-4974-9f4e-e6d54ab55728",
   "metadata": {},
   "outputs": [],
   "source": [
    "def make_dataset(data):\n",
    "    output = []\n",
    "    pos = 0 \n",
    "    neg = 0\n",
    "    for i in tqdm(data):\n",
    "        for j in i['pos']:\n",
    "            pos+=1\n",
    "            output.append(dict(title = i['title'], context = i['context'], question=j, label = 1))\n",
    "        for j in i['neg']:\n",
    "            neg+=1\n",
    "            output.append(dict(title = i['title'], context = i['context'], question=j, label = 0))\n",
    "    print(f'positive - {pos}')\n",
    "    print(f'neg - {neg}')\n",
    "    return output"
   ]
  },
  {
   "cell_type": "code",
   "execution_count": 52,
   "id": "cbb52ead-508b-4bc4-976b-1ae0b14eaa90",
   "metadata": {},
   "outputs": [
    {
     "name": "stderr",
     "output_type": "stream",
     "text": [
      "100%|████████████████████████████████████████████████████████████████████████| 52072/52072 [00:00<00:00, 221556.78it/s]"
     ]
    },
    {
     "name": "stdout",
     "output_type": "stream",
     "text": [
      "positive - 268186\n",
      "neg - 148341\n"
     ]
    },
    {
     "name": "stderr",
     "output_type": "stream",
     "text": [
      "\n"
     ]
    }
   ],
   "source": [
    "train_dataset = make_dataset(train)"
   ]
  },
  {
   "cell_type": "code",
   "execution_count": 53,
   "id": "19e8c63c-7c40-48ef-ae77-0738f9272e63",
   "metadata": {},
   "outputs": [
    {
     "name": "stderr",
     "output_type": "stream",
     "text": [
      "100%|██████████████████████████████████████████████████████████████████████████| 2000/2000 [00:00<00:00, 691786.90it/s]\n"
     ]
    },
    {
     "name": "stdout",
     "output_type": "stream",
     "text": [
      "positive - 10324\n",
      "neg - 5697\n"
     ]
    },
    {
     "name": "stderr",
     "output_type": "stream",
     "text": [
      "100%|███████████████████████████████████████████████████████████████████████████| 2000/2000 [00:00<00:00, 91671.76it/s]"
     ]
    },
    {
     "name": "stdout",
     "output_type": "stream",
     "text": [
      "positive - 10304\n",
      "neg - 5674\n"
     ]
    },
    {
     "name": "stderr",
     "output_type": "stream",
     "text": [
      "\n"
     ]
    }
   ],
   "source": [
    "dev_dataset = make_dataset(dev)\n",
    "test_dataset = make_dataset(test)"
   ]
  },
  {
   "cell_type": "code",
   "execution_count": 54,
   "id": "9dda545a-480d-4913-80ef-70d2029cec0f",
   "metadata": {},
   "outputs": [
    {
     "name": "stderr",
     "output_type": "stream",
     "text": [
      "100%|██████████████████████████████████████████████████████████████████████| 416527/416527 [00:03<00:00, 104860.96it/s]\n",
      "100%|████████████████████████████████████████████████████████████████████████| 16021/16021 [00:00<00:00, 112161.65it/s]\n",
      "100%|████████████████████████████████████████████████████████████████████████| 15978/15978 [00:00<00:00, 101118.19it/s]\n"
     ]
    }
   ],
   "source": [
    "save_jsonl('D:/jupyter_notebook/data/q_filtering_data',train_dataset,'train')\n",
    "save_jsonl('D:/jupyter_notebook/data/q_filtering_data',dev_dataset,'dev')\n",
    "save_jsonl('D:/jupyter_notebook/data/q_filtering_data',test_dataset,'test')"
   ]
  }
 ],
 "metadata": {
  "kernelspec": {
   "display_name": "Python 3 (ipykernel)",
   "language": "python",
   "name": "python3"
  },
  "language_info": {
   "codemirror_mode": {
    "name": "ipython",
    "version": 3
   },
   "file_extension": ".py",
   "mimetype": "text/x-python",
   "name": "python",
   "nbconvert_exporter": "python",
   "pygments_lexer": "ipython3",
   "version": "3.9.7"
  }
 },
 "nbformat": 4,
 "nbformat_minor": 5
}
